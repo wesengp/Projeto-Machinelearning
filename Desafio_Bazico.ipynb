{
  "nbformat": 4,
  "nbformat_minor": 0,
  "metadata": {
    "colab": {
      "provenance": [],
      "mount_file_id": "1yVcEzlCOLS1jf9UZ0C2pTZhBNUUrItIR",
      "authorship_tag": "ABX9TyN1Mxs0GLOw5sEsTocMIDkG",
      "include_colab_link": true
    },
    "kernelspec": {
      "name": "python3",
      "display_name": "Python 3"
    },
    "language_info": {
      "name": "python"
    }
  },
  "cells": [
    {
      "cell_type": "markdown",
      "metadata": {
        "id": "view-in-github",
        "colab_type": "text"
      },
      "source": [
        "<a href=\"https://colab.research.google.com/github/wesengp/Seletivo/blob/master/Desafio_Bazico.ipynb\" target=\"_parent\"><img src=\"https://colab.research.google.com/assets/colab-badge.svg\" alt=\"Open In Colab\"/></a>"
      ]
    },
    {
      "cell_type": "markdown",
      "source": [
        "Passo 1 - Importar os Dados\n",
        "Passo 2 - Visualizar e tratar a Base de Dados\n",
        "Passo 3 -  \"Dar uma olhada\" Na base de Dados (Panorama)\n",
        "Passo 4 - Construir uma análise\n",
        "Passo 4.1 - Ver quais clientes São mais provaveis de comprar\n",
        "passo 5 - Listar os clientes (100 tops clientes) \n",
        "passo 6 - fazer a parte do aprendizado de máquina para gerar o modelo\n",
        "\n"
      ],
      "metadata": {
        "id": "wwhdGn8PM_rL"
      }
    },
    {
      "cell_type": "code",
      "source": [
        "import pandas as pd \n",
        "import datetime as dt\n",
        "import matplotlib.pyplot as plt\n",
        "import numpy as np\n",
        "from datetime import datetime, timedelta\n",
        "from sklearn.model_selection import train_test_split\n",
        "from sklearn.ensemble import RandomForestClassifier\n",
        "from sklearn.metrics import accuracy_score\n",
        "from scipy.stats import ttest_ind\n",
        "from sklearn.linear_model import LogisticRegression\n",
        "from sklearn.preprocessing import StandardScaler\n",
        "\n"
      ],
      "metadata": {
        "id": "kIQST35bNu09"
      },
      "execution_count": 2,
      "outputs": []
    },
    {
      "cell_type": "markdown",
      "source": [
        "# Importe os dados da base "
      ],
      "metadata": {
        "id": "xJq0D2C73RTM"
      }
    },
    {
      "cell_type": "code",
      "source": [
        "tabela_vendas_produtos = pd.read_csv('/content/drive/MyDrive/Desafio Bazico/vendas_de_produtos.csv') \n"
      ],
      "metadata": {
        "id": "-PfXBDCTN1Gj"
      },
      "execution_count": 3,
      "outputs": []
    },
    {
      "cell_type": "code",
      "source": [
        "tabela_clientes = pd.read_csv('/content/drive/MyDrive/Desafio Bazico/clientes.csv') \n",
        "print(tabela_clientes)"
      ],
      "metadata": {
        "id": "uJg2PeI7QmNA",
        "colab": {
          "base_uri": "https://localhost:8080/"
        },
        "outputId": "c4b66bf8-d8b5-411a-bf34-1cdcb55ae767"
      },
      "execution_count": 4,
      "outputs": [
        {
          "output_type": "stream",
          "name": "stdout",
          "text": [
            "        ID_Cliente     Bairro    Cidade Estado\n",
            "0     1.242908e+10      Luzia   Aracaju     SE\n",
            "1     1.279362e+10    Grageru   Aracaju     SE\n",
            "2     1.000000e+00        NaN       NaN    NaN\n",
            "3     2.000000e+00        NaN       NaN    NaN\n",
            "4     1.273229e+10    Jardins   Aracaju     SE\n",
            "...            ...        ...       ...    ...\n",
            "3779  1.599063e+10     Suíssa   Aracaju     SE\n",
            "3780  1.599064e+10  Jabotiana   Aracaju     SE\n",
            "3781  1.599065e+10     Brotas  Salvador     BA\n",
            "3782  1.599067e+10    Pituaçu  Salvador     BA\n",
            "3783  1.599067e+10    Atalaia   Aracaju     SE\n",
            "\n",
            "[3784 rows x 4 columns]\n"
          ]
        }
      ]
    },
    {
      "cell_type": "markdown",
      "source": [
        "#Fiz uma pré analise na base para ver se o import estava correto"
      ],
      "metadata": {
        "id": "BP8pGOhc8Qm9"
      }
    },
    {
      "cell_type": "code",
      "source": [
        "display(tabela_vendas_produtos.head())"
      ],
      "metadata": {
        "id": "HL4hsNkZOHV5"
      },
      "execution_count": null,
      "outputs": []
    },
    {
      "cell_type": "markdown",
      "source": [
        "# Essa etapa foi para identificar os valores da base bem como limpar as partes vazias e partir para a analise mais detalhada"
      ],
      "metadata": {
        "id": "0S37haP23q_W"
      }
    },
    {
      "cell_type": "code",
      "source": [
        "tabela_vendas_produtos = tabela_vendas_produtos.dropna()\n",
        "tabela_clientes = tabela_clientes.dropna() \n",
        "\n",
        "display(tabela_vendas_produtos.info()) \n",
        "display(tabela_vendas_produtos.describe().round(3)) \n"
      ],
      "metadata": {
        "id": "QaPm2F3EO_qI"
      },
      "execution_count": null,
      "outputs": []
    },
    {
      "cell_type": "markdown",
      "source": [
        "## Essa foi uma etapa de verificação fiz um script para ver se os clientes compraram em datas diferentes e quais foram essas datas, com intuito de verificar a recorrencia das compras de cada um deles, essa informação serviu apenas como base para ter uma ideia de como estruturar o modelo"
      ],
      "metadata": {
        "id": "m3vpt8sk8kHh"
      }
    },
    {
      "cell_type": "markdown",
      "source": [
        "# Calculando a Frequencia do Dataframe"
      ],
      "metadata": {
        "id": "qU7i2kscUAmS"
      }
    },
    {
      "cell_type": "code",
      "source": [
        "# Contar quantas compras cada cliente fez\n",
        "compras_por_cliente = tabela_vendas_produtos['ID_Cliente'].value_counts()\n",
        "\n",
        "# Selecionar os 100 clientes com mais compras\n",
        "top_100_ids = compras_por_cliente.head(100).index.tolist()"
      ],
      "metadata": {
        "id": "A9qMkbQeT_tI"
      },
      "execution_count": 6,
      "outputs": []
    },
    {
      "cell_type": "code",
      "source": [
        "# Agrupar as compras por cliente e calcular a quantidade de dias únicos em que ele comprou\n",
        "compras_por_cliente = tabela_vendas_produtos.groupby('ID_Cliente')['Data'].nunique()\n",
        "\n",
        "# Selecionar apenas os clientes que compraram em mais de um dia\n",
        "clientes_compras_multiplos_dias = compras_por_cliente[compras_por_cliente > 1]\n",
        "print(clientes_compras_multiplos_dias)\n"
      ],
      "metadata": {
        "id": "jhyc_1rwUOhZ"
      },
      "execution_count": null,
      "outputs": []
    },
    {
      "cell_type": "markdown",
      "source": [
        "## Feita a anlálise anterior resolvi calcular os clientes que tinham uma frequencia de compra maiores ou iguais a 10 dias assim, poderia ter uma ideia dos possiveis clientes que tem uma \"Fidelização\" com a loja"
      ],
      "metadata": {
        "id": "ZX-DKrt0aLcS"
      }
    },
    {
      "cell_type": "code",
      "source": [
        "df_freq = tabela_vendas_produtos.groupby('ID_Cliente')['Data'].nunique().reset_index(name='Freq_Compra')\n",
        "df_top_freq = df_freq[df_freq['Freq_Compra'] >= 10]\n",
        "print(df_top_freq)\n"
      ],
      "metadata": {
        "colab": {
          "base_uri": "https://localhost:8080/"
        },
        "id": "4DHFjFMRXDgV",
        "outputId": "5bfc2634-d905-4836-c5ca-9b2853ff7647"
      },
      "execution_count": 7,
      "outputs": [
        {
          "output_type": "stream",
          "name": "stdout",
          "text": [
            "        ID_Cliente  Freq_Compra\n",
            "109   1.226840e+10           43\n",
            "115   1.238377e+10           13\n",
            "118   1.238509e+10           11\n",
            "121   1.242904e+10           27\n",
            "127   1.242915e+10           15\n",
            "...            ...          ...\n",
            "1948  1.580584e+10           15\n",
            "1956  1.580671e+10           10\n",
            "2038  1.581689e+10           15\n",
            "2069  1.582084e+10           11\n",
            "2289  1.585883e+10           12\n",
            "\n",
            "[76 rows x 2 columns]\n"
          ]
        }
      ]
    },
    {
      "cell_type": "markdown",
      "source": [
        "## Para melhor visualização fiz uma colunas de datas para melhor ver o padrão "
      ],
      "metadata": {
        "id": "r6a4a5WdrxtY"
      }
    },
    {
      "cell_type": "code",
      "source": [
        "df_top_freq_dates = pd.merge(df_top_freq, tabela_vendas_produtos[['ID_Cliente', 'Data']], on='ID_Cliente', how='left')\n",
        "print(df_top_freq_dates)\n"
      ],
      "metadata": {
        "colab": {
          "base_uri": "https://localhost:8080/"
        },
        "id": "CVru3eFNYrGx",
        "outputId": "04f2277b-d987-44c2-c0ce-ebe03b2cf721"
      },
      "execution_count": 8,
      "outputs": [
        {
          "output_type": "stream",
          "name": "stdout",
          "text": [
            "        ID_Cliente  Freq_Compra        Data\n",
            "0     1.226840e+10           43  2021-10-23\n",
            "1     1.226840e+10           43  2021-10-23\n",
            "2     1.226840e+10           43  2021-10-23\n",
            "3     1.226840e+10           43  2021-10-23\n",
            "4     1.226840e+10           43  2021-12-28\n",
            "...            ...          ...         ...\n",
            "2136  1.585883e+10           12  2022-11-23\n",
            "2137  1.585883e+10           12  2022-12-24\n",
            "2138  1.585883e+10           12  2022-12-24\n",
            "2139  1.585883e+10           12  2022-12-24\n",
            "2140  1.585883e+10           12  2022-12-24\n",
            "\n",
            "[2141 rows x 3 columns]\n"
          ]
        }
      ]
    },
    {
      "cell_type": "markdown",
      "source": [
        "## Essa etapa fiz um agrupamento entre frequencia e o total gasto de cada cliente na loja, serve como estratégia para um possivel marketing direcionado para alguns clientes"
      ],
      "metadata": {
        "id": "0fuI1nadsSJH"
      }
    },
    {
      "cell_type": "code",
      "source": [
        "df_total_gasto = tabela_vendas_produtos.groupby('ID_Cliente')['Total_do_Pedido'].sum().reset_index(name='Total_Gasto')\n",
        "df_freq_total = pd.merge(df_freq, df_total_gasto, on='ID_Cliente', how='left')\n",
        "df_freq_total_top = df_freq_total[df_freq_total['Freq_Compra'] >= 10]\n",
        "print(df_freq_total_top)\n",
        "\n"
      ],
      "metadata": {
        "colab": {
          "base_uri": "https://localhost:8080/"
        },
        "id": "cZeKqoLccOEk",
        "outputId": "dbbe0421-5958-4bbe-a93d-ef303c756eb9"
      },
      "execution_count": 10,
      "outputs": [
        {
          "output_type": "stream",
          "name": "stdout",
          "text": [
            "        ID_Cliente  Freq_Compra  Total_Gasto\n",
            "109   1.226840e+10           43     23123.30\n",
            "115   1.238377e+10           13      5531.53\n",
            "118   1.238509e+10           11      7568.37\n",
            "121   1.242904e+10           27      8548.80\n",
            "127   1.242915e+10           15     15218.30\n",
            "...            ...          ...          ...\n",
            "1948  1.580584e+10           15      4577.80\n",
            "1956  1.580671e+10           10      4264.00\n",
            "2038  1.581689e+10           15      5471.20\n",
            "2069  1.582084e+10           11      2727.00\n",
            "2289  1.585883e+10           12      4122.00\n",
            "\n",
            "[76 rows x 3 columns]\n"
          ]
        }
      ]
    },
    {
      "cell_type": "markdown",
      "source": [
        "## Com base no agrupamento de cima fiz um gráfico de dispersão relacionando a soma do total gasto de cada cliente com a frequencia de compra para melhor visualização"
      ],
      "metadata": {
        "id": "fzKzlMmGsu5D"
      }
    },
    {
      "cell_type": "code",
      "source": [
        "plt.scatter(df_freq_total['Freq_Compra'], df_freq_total['Total_Gasto'])\n",
        "plt.xlabel('Frequência de Compra')\n",
        "plt.ylabel('Total Gasto')\n",
        "plt.show()"
      ],
      "metadata": {
        "id": "mMVteFDacWLi"
      },
      "execution_count": null,
      "outputs": []
    },
    {
      "cell_type": "markdown",
      "source": [
        "## Utilizei a correlação de pearson para ver se a frequência tem uma boa correlação com o total gasto, houve uma correlação positiva moderada isso implica que clientes que compram com maior frequência tendem a gastar mais dinheiro na loja."
      ],
      "metadata": {
        "id": "Os84knwYvIUk"
      }
    },
    {
      "cell_type": "code",
      "source": [
        "from scipy.stats import pearsonr\n",
        "\n",
        "corr, p_value = pearsonr(df_freq_total['Freq_Compra'], df_freq_total['Total_Gasto'])\n",
        "print(f'Coeficiente de correlação: {corr:.3f}')\n"
      ],
      "metadata": {
        "colab": {
          "base_uri": "https://localhost:8080/"
        },
        "id": "FW9f8Fylcuut",
        "outputId": "d948d231-b885-40b4-d0a8-52362ef62faf"
      },
      "execution_count": 11,
      "outputs": [
        {
          "output_type": "stream",
          "name": "stdout",
          "text": [
            "Coeficiente de correlação: 0.292\n"
          ]
        }
      ]
    },
    {
      "cell_type": "code",
      "source": [
        "df_freq_total[['Freq_Compra', 'Total_Gasto']].corr()\n"
      ],
      "metadata": {
        "id": "Dri-2_AQdGqa"
      },
      "execution_count": null,
      "outputs": []
    },
    {
      "cell_type": "markdown",
      "source": [
        "## Depois de ter feito a analise, utilizei a base de dados dos dados demográficos para ter uma ideia de onde são esses clientes, se são de regiões proximas da loja, me serviu para ter uma ideia se esses clientes compram mais porque está mais próximo ou gostam realmente da marca"
      ],
      "metadata": {
        "id": "z1WOdC-BvrYf"
      }
    },
    {
      "cell_type": "code",
      "source": [
        "df_merged = pd.merge(df_top_freq, tabela_clientes, on='ID_Cliente', how='left')\n",
        "display(df_merged)\n"
      ],
      "metadata": {
        "colab": {
          "base_uri": "https://localhost:8080/",
          "height": 423
        },
        "id": "YAeJq1tCeciS",
        "outputId": "162083ef-52be-467a-d3c3-f30fcf646ac3"
      },
      "execution_count": 67,
      "outputs": [
        {
          "output_type": "display_data",
          "data": {
            "text/plain": [
              "      ID_Cliente  Freq_Compra           Bairro   Cidade Estado\n",
              "0   1.226840e+10           43            Luzia  Aracaju     SE\n",
              "1   1.238377e+10           13  Siqueira Campos  Aracaju     SE\n",
              "2   1.238509e+10           11           Robalo  Aracaju     SE\n",
              "3   1.242904e+10           27          Jardins  Aracaju     SE\n",
              "4   1.242915e+10           15          Atalaia  Aracaju     SE\n",
              "..           ...          ...              ...      ...    ...\n",
              "71  1.580584e+10           15           Suíssa  Aracaju     SE\n",
              "72  1.580671e+10           10          Jardins  Aracaju     SE\n",
              "73  1.581689e+10           15       Farolândia  Aracaju     SE\n",
              "74  1.582084e+10           11       Industrial  Aracaju     SE\n",
              "75  1.585883e+10           12       Farolândia  Aracaju     SE\n",
              "\n",
              "[76 rows x 5 columns]"
            ],
            "text/html": [
              "\n",
              "  <div id=\"df-7b87b2af-de21-4815-847e-8389c6ecdc78\">\n",
              "    <div class=\"colab-df-container\">\n",
              "      <div>\n",
              "<style scoped>\n",
              "    .dataframe tbody tr th:only-of-type {\n",
              "        vertical-align: middle;\n",
              "    }\n",
              "\n",
              "    .dataframe tbody tr th {\n",
              "        vertical-align: top;\n",
              "    }\n",
              "\n",
              "    .dataframe thead th {\n",
              "        text-align: right;\n",
              "    }\n",
              "</style>\n",
              "<table border=\"1\" class=\"dataframe\">\n",
              "  <thead>\n",
              "    <tr style=\"text-align: right;\">\n",
              "      <th></th>\n",
              "      <th>ID_Cliente</th>\n",
              "      <th>Freq_Compra</th>\n",
              "      <th>Bairro</th>\n",
              "      <th>Cidade</th>\n",
              "      <th>Estado</th>\n",
              "    </tr>\n",
              "  </thead>\n",
              "  <tbody>\n",
              "    <tr>\n",
              "      <th>0</th>\n",
              "      <td>1.226840e+10</td>\n",
              "      <td>43</td>\n",
              "      <td>Luzia</td>\n",
              "      <td>Aracaju</td>\n",
              "      <td>SE</td>\n",
              "    </tr>\n",
              "    <tr>\n",
              "      <th>1</th>\n",
              "      <td>1.238377e+10</td>\n",
              "      <td>13</td>\n",
              "      <td>Siqueira Campos</td>\n",
              "      <td>Aracaju</td>\n",
              "      <td>SE</td>\n",
              "    </tr>\n",
              "    <tr>\n",
              "      <th>2</th>\n",
              "      <td>1.238509e+10</td>\n",
              "      <td>11</td>\n",
              "      <td>Robalo</td>\n",
              "      <td>Aracaju</td>\n",
              "      <td>SE</td>\n",
              "    </tr>\n",
              "    <tr>\n",
              "      <th>3</th>\n",
              "      <td>1.242904e+10</td>\n",
              "      <td>27</td>\n",
              "      <td>Jardins</td>\n",
              "      <td>Aracaju</td>\n",
              "      <td>SE</td>\n",
              "    </tr>\n",
              "    <tr>\n",
              "      <th>4</th>\n",
              "      <td>1.242915e+10</td>\n",
              "      <td>15</td>\n",
              "      <td>Atalaia</td>\n",
              "      <td>Aracaju</td>\n",
              "      <td>SE</td>\n",
              "    </tr>\n",
              "    <tr>\n",
              "      <th>...</th>\n",
              "      <td>...</td>\n",
              "      <td>...</td>\n",
              "      <td>...</td>\n",
              "      <td>...</td>\n",
              "      <td>...</td>\n",
              "    </tr>\n",
              "    <tr>\n",
              "      <th>71</th>\n",
              "      <td>1.580584e+10</td>\n",
              "      <td>15</td>\n",
              "      <td>Suíssa</td>\n",
              "      <td>Aracaju</td>\n",
              "      <td>SE</td>\n",
              "    </tr>\n",
              "    <tr>\n",
              "      <th>72</th>\n",
              "      <td>1.580671e+10</td>\n",
              "      <td>10</td>\n",
              "      <td>Jardins</td>\n",
              "      <td>Aracaju</td>\n",
              "      <td>SE</td>\n",
              "    </tr>\n",
              "    <tr>\n",
              "      <th>73</th>\n",
              "      <td>1.581689e+10</td>\n",
              "      <td>15</td>\n",
              "      <td>Farolândia</td>\n",
              "      <td>Aracaju</td>\n",
              "      <td>SE</td>\n",
              "    </tr>\n",
              "    <tr>\n",
              "      <th>74</th>\n",
              "      <td>1.582084e+10</td>\n",
              "      <td>11</td>\n",
              "      <td>Industrial</td>\n",
              "      <td>Aracaju</td>\n",
              "      <td>SE</td>\n",
              "    </tr>\n",
              "    <tr>\n",
              "      <th>75</th>\n",
              "      <td>1.585883e+10</td>\n",
              "      <td>12</td>\n",
              "      <td>Farolândia</td>\n",
              "      <td>Aracaju</td>\n",
              "      <td>SE</td>\n",
              "    </tr>\n",
              "  </tbody>\n",
              "</table>\n",
              "<p>76 rows × 5 columns</p>\n",
              "</div>\n",
              "      <button class=\"colab-df-convert\" onclick=\"convertToInteractive('df-7b87b2af-de21-4815-847e-8389c6ecdc78')\"\n",
              "              title=\"Convert this dataframe to an interactive table.\"\n",
              "              style=\"display:none;\">\n",
              "        \n",
              "  <svg xmlns=\"http://www.w3.org/2000/svg\" height=\"24px\"viewBox=\"0 0 24 24\"\n",
              "       width=\"24px\">\n",
              "    <path d=\"M0 0h24v24H0V0z\" fill=\"none\"/>\n",
              "    <path d=\"M18.56 5.44l.94 2.06.94-2.06 2.06-.94-2.06-.94-.94-2.06-.94 2.06-2.06.94zm-11 1L8.5 8.5l.94-2.06 2.06-.94-2.06-.94L8.5 2.5l-.94 2.06-2.06.94zm10 10l.94 2.06.94-2.06 2.06-.94-2.06-.94-.94-2.06-.94 2.06-2.06.94z\"/><path d=\"M17.41 7.96l-1.37-1.37c-.4-.4-.92-.59-1.43-.59-.52 0-1.04.2-1.43.59L10.3 9.45l-7.72 7.72c-.78.78-.78 2.05 0 2.83L4 21.41c.39.39.9.59 1.41.59.51 0 1.02-.2 1.41-.59l7.78-7.78 2.81-2.81c.8-.78.8-2.07 0-2.86zM5.41 20L4 18.59l7.72-7.72 1.47 1.35L5.41 20z\"/>\n",
              "  </svg>\n",
              "      </button>\n",
              "      \n",
              "  <style>\n",
              "    .colab-df-container {\n",
              "      display:flex;\n",
              "      flex-wrap:wrap;\n",
              "      gap: 12px;\n",
              "    }\n",
              "\n",
              "    .colab-df-convert {\n",
              "      background-color: #E8F0FE;\n",
              "      border: none;\n",
              "      border-radius: 50%;\n",
              "      cursor: pointer;\n",
              "      display: none;\n",
              "      fill: #1967D2;\n",
              "      height: 32px;\n",
              "      padding: 0 0 0 0;\n",
              "      width: 32px;\n",
              "    }\n",
              "\n",
              "    .colab-df-convert:hover {\n",
              "      background-color: #E2EBFA;\n",
              "      box-shadow: 0px 1px 2px rgba(60, 64, 67, 0.3), 0px 1px 3px 1px rgba(60, 64, 67, 0.15);\n",
              "      fill: #174EA6;\n",
              "    }\n",
              "\n",
              "    [theme=dark] .colab-df-convert {\n",
              "      background-color: #3B4455;\n",
              "      fill: #D2E3FC;\n",
              "    }\n",
              "\n",
              "    [theme=dark] .colab-df-convert:hover {\n",
              "      background-color: #434B5C;\n",
              "      box-shadow: 0px 1px 3px 1px rgba(0, 0, 0, 0.15);\n",
              "      filter: drop-shadow(0px 1px 2px rgba(0, 0, 0, 0.3));\n",
              "      fill: #FFFFFF;\n",
              "    }\n",
              "  </style>\n",
              "\n",
              "      <script>\n",
              "        const buttonEl =\n",
              "          document.querySelector('#df-7b87b2af-de21-4815-847e-8389c6ecdc78 button.colab-df-convert');\n",
              "        buttonEl.style.display =\n",
              "          google.colab.kernel.accessAllowed ? 'block' : 'none';\n",
              "\n",
              "        async function convertToInteractive(key) {\n",
              "          const element = document.querySelector('#df-7b87b2af-de21-4815-847e-8389c6ecdc78');\n",
              "          const dataTable =\n",
              "            await google.colab.kernel.invokeFunction('convertToInteractive',\n",
              "                                                     [key], {});\n",
              "          if (!dataTable) return;\n",
              "\n",
              "          const docLinkHtml = 'Like what you see? Visit the ' +\n",
              "            '<a target=\"_blank\" href=https://colab.research.google.com/notebooks/data_table.ipynb>data table notebook</a>'\n",
              "            + ' to learn more about interactive tables.';\n",
              "          element.innerHTML = '';\n",
              "          dataTable['output_type'] = 'display_data';\n",
              "          await google.colab.output.renderOutput(dataTable, element);\n",
              "          const docLink = document.createElement('div');\n",
              "          docLink.innerHTML = docLinkHtml;\n",
              "          element.appendChild(docLink);\n",
              "        }\n",
              "      </script>\n",
              "    </div>\n",
              "  </div>\n",
              "  "
            ]
          },
          "metadata": {}
        }
      ]
    },
    {
      "cell_type": "markdown",
      "source": [
        "## Aprofundei mais a ideia da frequencia e verifiquei quais clientes gastaram com frete ou seja pelos valores encontrados os clientes que tiveram uma frequência de compra maiores ou iguais a 10 e gastou com frete tem uma possibilidade de recomprar, essa informação serve como uma possivel feature para o modelo"
      ],
      "metadata": {
        "id": "6j5NIz-czUUg"
      }
    },
    {
      "cell_type": "code",
      "source": [
        "df_merged = pd.merge(df_top_freq, tabela_clientes, on='ID_Cliente', how='left')\n",
        "df_merged = pd.merge(df_merged, tabela_vendas_produtos[['ID_Cliente', 'Frete']], on='ID_Cliente', how='left')\n",
        "df_merged['Frete'].fillna(0, inplace=True)\n",
        "df_merged['Gastou_com_Frete'] = np.where(df_merged['Frete'] > 0, 1, 0)\n",
        "df_merged_gastou_frete = df_merged[df_merged['Gastou_com_Frete'] == 1]\n",
        "display(df_merged_gastou_frete)\n"
      ],
      "metadata": {
        "id": "2zSseujXxODL"
      },
      "execution_count": null,
      "outputs": []
    },
    {
      "cell_type": "markdown",
      "source": [
        "### Essa parte foi mais em questão de curiosidade para ver qual foi o gasto médio dos clientes dos clientes com frequencia maior ou igual a 10 e menor e igual a 10"
      ],
      "metadata": {
        "id": "dMtyCoQpz3Sm"
      }
    },
    {
      "cell_type": "code",
      "source": [
        "# Selecionando clientes com frequência maior ou igual a 10\n",
        "df_top_freq_total = df_freq_total[df_freq_total['Freq_Compra'] >= 10]\n",
        "\n",
        "# Selecionando clientes com frequência menor que 10\n",
        "df_low_freq_total = df_freq_total[df_freq_total['Freq_Compra'] < 10]\n",
        "\n",
        "# Calculando a média dos gastos totais de cada grupo\n",
        "mean_top_freq_total = df_top_freq_total['Total_Gasto'].mean()\n",
        "mean_low_freq_total = df_low_freq_total['Total_Gasto'].mean()\n",
        "\n",
        "# Imprimindo as médias dos gastos totais de cada grupo\n",
        "print('Média dos gastos totais dos clientes com frequência maior ou igual a 10: {:.2f}'.format(mean_top_freq_total))\n",
        "print('Média dos gastos totais dos clientes com frequência menor que 10: {:.2f}'.format(mean_low_freq_total))\n"
      ],
      "metadata": {
        "id": "mQcBA9u1iDr2"
      },
      "execution_count": null,
      "outputs": []
    },
    {
      "cell_type": "markdown",
      "source": [
        "## Essa etapa eu executei dois modelos, o primeiro modelo foi com base no valor listei os 100 possiveis clientes que mais gastaram, e o segundo modelo parte da ideia que clientes com maiores frequências tendem a ter a maior possibilidade de retorno, fiz dois modelos para ter uma análise comparativa e vê qual modelo faz mais sentido para um possivel plano de ação"
      ],
      "metadata": {
        "id": "8Y01Lgle0acI"
      }
    },
    {
      "cell_type": "markdown",
      "source": [
        "## Aqui foi executado os filtros dos dados das duas ultimas semanas e logo em seguida agrupei os dados do id e a soma total dos pedidos para cada cliente, depois os resultados foram postos em ordem decrescente e por fim selecionei os possiveis 100 primeiros clientes da lista\n"
      ],
      "metadata": {
        "id": "pUWgjMukaRgL"
      }
    },
    {
      "cell_type": "code",
      "source": [
        "# Converte a coluna de data para o formato datetime\n",
        "tabela_vendas_produtos['Data'] = pd.to_datetime(tabela_vendas_produtos['Data'])\n"
      ],
      "metadata": {
        "id": "iqk_ajG5_4Yf"
      },
      "execution_count": 32,
      "outputs": []
    },
    {
      "cell_type": "code",
      "source": [
        "# Filtra os dados para as últimas duas semanas\n",
        "ultimas_duas_semanas = tabela_vendas_produtos['Data'] >= (tabela_vendas_produtos['Data'].max() - dt.timedelta(days=14))\n",
        "df_periodo = tabela_vendas_produtos[ultimas_duas_semanas]"
      ],
      "metadata": {
        "id": "v-qQmlZ7M-PW"
      },
      "execution_count": 33,
      "outputs": []
    },
    {
      "cell_type": "code",
      "source": [
        "# Agrupa os dados por ID_Cliente e calcula a soma do Total_do_Pedido para cada cliente\n",
        "clientes = df_periodo.groupby('ID_Cliente').sum()['Total_do_Pedido']"
      ],
      "metadata": {
        "id": "Ec2hSfZpNf0_",
        "colab": {
          "base_uri": "https://localhost:8080/"
        },
        "outputId": "002de754-45cb-4fee-93f1-cbf55da0f57c"
      },
      "execution_count": 34,
      "outputs": [
        {
          "output_type": "stream",
          "name": "stderr",
          "text": [
            "<ipython-input-34-182a9238dc40>:2: FutureWarning: The default value of numeric_only in DataFrameGroupBy.sum is deprecated. In a future version, numeric_only will default to False. Either specify numeric_only or select only columns which should be valid for the function.\n",
            "  clientes = df_periodo.groupby('ID_Cliente').sum()['Total_do_Pedido']\n"
          ]
        }
      ]
    },
    {
      "cell_type": "code",
      "source": [
        "# Ordena os resultados em ordem decrescente com base no valor total do pedido\n",
        "clientes_ordenados = clientes.sort_values(ascending=False)\n"
      ],
      "metadata": {
        "id": "fiLjtlNUNkWG"
      },
      "execution_count": 35,
      "outputs": []
    },
    {
      "cell_type": "code",
      "source": [
        "# Seleciona os 100 primeiros clientes da lista classificada\n",
        "top_100_clientes = clientes_ordenados.head(100)"
      ],
      "metadata": {
        "id": "cIMKVpJAO4ay"
      },
      "execution_count": 36,
      "outputs": []
    },
    {
      "cell_type": "code",
      "source": [
        "print(top_100_clientes)"
      ],
      "metadata": {
        "id": "Sx_z-C-kO7PG",
        "colab": {
          "base_uri": "https://localhost:8080/"
        },
        "outputId": "7e4663b9-9bc2-4d03-fde6-b731f3e9eb69"
      },
      "execution_count": 21,
      "outputs": [
        {
          "output_type": "stream",
          "name": "stdout",
          "text": [
            "ID_Cliente\n",
            "1.591419e+10    237816.00\n",
            "1.598193e+10     15919.00\n",
            "1.598494e+10     10362.00\n",
            "1.598429e+10      9639.00\n",
            "1.574424e+10      8454.00\n",
            "                  ...    \n",
            "1.598488e+10      1675.52\n",
            "1.599027e+10      1675.52\n",
            "1.598409e+10      1675.52\n",
            "1.598614e+10      1675.52\n",
            "1.503154e+10      1624.00\n",
            "Name: Total_do_Pedido, Length: 100, dtype: float64\n"
          ]
        }
      ]
    },
    {
      "cell_type": "markdown",
      "source": [
        "## Aqui inicia o modelo  de floresta aleatória (Random Forest) é um conjunto de árvores de decisão que são treinadas em subconjuntos aleatórios dos dados de treinamento, o modelo levou em consideração 'Quantidade', 'Preço_Unitário', 'Desconto', 'Frete' e gerou uma possivel lista de clientes que fariam a recompra"
      ],
      "metadata": {
        "id": "L0nA20U__Wy4"
      }
    },
    {
      "cell_type": "code",
      "source": [
        "clientes_recompra = df_periodo.groupby('ID_Cliente').apply(lambda x: 1 if x.shape[0] > 1 else 0)\n",
        "clientes_recompra = clientes_recompra.rename('recompra')\n",
        "display(clientes_recompra)"
      ],
      "metadata": {
        "id": "vj2jFFgzO9TI",
        "colab": {
          "base_uri": "https://localhost:8080/",
          "height": 243
        },
        "outputId": "439cf96d-40a1-47c0-e173-57f87fb3e40d"
      },
      "execution_count": 37,
      "outputs": [
        {
          "output_type": "display_data",
          "data": {
            "text/plain": [
              "ID_Cliente\n",
              "1.226840e+10    1\n",
              "1.242904e+10    1\n",
              "1.242905e+10    0\n",
              "1.242917e+10    0\n",
              "1.242925e+10    1\n",
              "               ..\n",
              "1.599063e+10    1\n",
              "1.599064e+10    1\n",
              "1.599065e+10    1\n",
              "1.599067e+10    0\n",
              "1.599067e+10    1\n",
              "Name: recompra, Length: 918, dtype: int64"
            ]
          },
          "metadata": {}
        }
      ]
    },
    {
      "cell_type": "code",
      "source": [
        "# Juntar variável alvo com os dados de vendas\n",
        "df_periodo = df_periodo.merge(clientes_recompra, on='ID_Cliente', how='left')"
      ],
      "metadata": {
        "id": "QsdyEA5hQI4O"
      },
      "execution_count": 38,
      "outputs": []
    },
    {
      "cell_type": "code",
      "source": [
        "# Selecionar as colunas relevantes para o modelo\n",
        "X = df_periodo[['Quantidade', 'Preço_Unitário', 'Desconto', 'Frete']]\n",
        "y = df_periodo['recompra']"
      ],
      "metadata": {
        "id": "l3Tf87EqSAVA"
      },
      "execution_count": 39,
      "outputs": []
    },
    {
      "cell_type": "code",
      "source": [
        "# Dividir os dados em treino e teste\n",
        "X_train, X_test, y_train, y_test = train_test_split(X, y, test_size=0.3, random_state=42)\n"
      ],
      "metadata": {
        "id": "M4nBOO_zSDq-"
      },
      "execution_count": 40,
      "outputs": []
    },
    {
      "cell_type": "code",
      "source": [
        "# Treinar modelo\n",
        "modelo = RandomForestClassifier(random_state=42)\n",
        "modelo.fit(X_train, y_train)"
      ],
      "metadata": {
        "id": "9JFxaxG4SIDN",
        "colab": {
          "base_uri": "https://localhost:8080/",
          "height": 74
        },
        "outputId": "6df05de2-8ef5-4986-db34-63cb0692b507"
      },
      "execution_count": 41,
      "outputs": [
        {
          "output_type": "execute_result",
          "data": {
            "text/plain": [
              "RandomForestClassifier(random_state=42)"
            ],
            "text/html": [
              "<style>#sk-container-id-1 {color: black;background-color: white;}#sk-container-id-1 pre{padding: 0;}#sk-container-id-1 div.sk-toggleable {background-color: white;}#sk-container-id-1 label.sk-toggleable__label {cursor: pointer;display: block;width: 100%;margin-bottom: 0;padding: 0.3em;box-sizing: border-box;text-align: center;}#sk-container-id-1 label.sk-toggleable__label-arrow:before {content: \"▸\";float: left;margin-right: 0.25em;color: #696969;}#sk-container-id-1 label.sk-toggleable__label-arrow:hover:before {color: black;}#sk-container-id-1 div.sk-estimator:hover label.sk-toggleable__label-arrow:before {color: black;}#sk-container-id-1 div.sk-toggleable__content {max-height: 0;max-width: 0;overflow: hidden;text-align: left;background-color: #f0f8ff;}#sk-container-id-1 div.sk-toggleable__content pre {margin: 0.2em;color: black;border-radius: 0.25em;background-color: #f0f8ff;}#sk-container-id-1 input.sk-toggleable__control:checked~div.sk-toggleable__content {max-height: 200px;max-width: 100%;overflow: auto;}#sk-container-id-1 input.sk-toggleable__control:checked~label.sk-toggleable__label-arrow:before {content: \"▾\";}#sk-container-id-1 div.sk-estimator input.sk-toggleable__control:checked~label.sk-toggleable__label {background-color: #d4ebff;}#sk-container-id-1 div.sk-label input.sk-toggleable__control:checked~label.sk-toggleable__label {background-color: #d4ebff;}#sk-container-id-1 input.sk-hidden--visually {border: 0;clip: rect(1px 1px 1px 1px);clip: rect(1px, 1px, 1px, 1px);height: 1px;margin: -1px;overflow: hidden;padding: 0;position: absolute;width: 1px;}#sk-container-id-1 div.sk-estimator {font-family: monospace;background-color: #f0f8ff;border: 1px dotted black;border-radius: 0.25em;box-sizing: border-box;margin-bottom: 0.5em;}#sk-container-id-1 div.sk-estimator:hover {background-color: #d4ebff;}#sk-container-id-1 div.sk-parallel-item::after {content: \"\";width: 100%;border-bottom: 1px solid gray;flex-grow: 1;}#sk-container-id-1 div.sk-label:hover label.sk-toggleable__label {background-color: #d4ebff;}#sk-container-id-1 div.sk-serial::before {content: \"\";position: absolute;border-left: 1px solid gray;box-sizing: border-box;top: 0;bottom: 0;left: 50%;z-index: 0;}#sk-container-id-1 div.sk-serial {display: flex;flex-direction: column;align-items: center;background-color: white;padding-right: 0.2em;padding-left: 0.2em;position: relative;}#sk-container-id-1 div.sk-item {position: relative;z-index: 1;}#sk-container-id-1 div.sk-parallel {display: flex;align-items: stretch;justify-content: center;background-color: white;position: relative;}#sk-container-id-1 div.sk-item::before, #sk-container-id-1 div.sk-parallel-item::before {content: \"\";position: absolute;border-left: 1px solid gray;box-sizing: border-box;top: 0;bottom: 0;left: 50%;z-index: -1;}#sk-container-id-1 div.sk-parallel-item {display: flex;flex-direction: column;z-index: 1;position: relative;background-color: white;}#sk-container-id-1 div.sk-parallel-item:first-child::after {align-self: flex-end;width: 50%;}#sk-container-id-1 div.sk-parallel-item:last-child::after {align-self: flex-start;width: 50%;}#sk-container-id-1 div.sk-parallel-item:only-child::after {width: 0;}#sk-container-id-1 div.sk-dashed-wrapped {border: 1px dashed gray;margin: 0 0.4em 0.5em 0.4em;box-sizing: border-box;padding-bottom: 0.4em;background-color: white;}#sk-container-id-1 div.sk-label label {font-family: monospace;font-weight: bold;display: inline-block;line-height: 1.2em;}#sk-container-id-1 div.sk-label-container {text-align: center;}#sk-container-id-1 div.sk-container {/* jupyter's `normalize.less` sets `[hidden] { display: none; }` but bootstrap.min.css set `[hidden] { display: none !important; }` so we also need the `!important` here to be able to override the default hidden behavior on the sphinx rendered scikit-learn.org. See: https://github.com/scikit-learn/scikit-learn/issues/21755 */display: inline-block !important;position: relative;}#sk-container-id-1 div.sk-text-repr-fallback {display: none;}</style><div id=\"sk-container-id-1\" class=\"sk-top-container\"><div class=\"sk-text-repr-fallback\"><pre>RandomForestClassifier(random_state=42)</pre><b>In a Jupyter environment, please rerun this cell to show the HTML representation or trust the notebook. <br />On GitHub, the HTML representation is unable to render, please try loading this page with nbviewer.org.</b></div><div class=\"sk-container\" hidden><div class=\"sk-item\"><div class=\"sk-estimator sk-toggleable\"><input class=\"sk-toggleable__control sk-hidden--visually\" id=\"sk-estimator-id-1\" type=\"checkbox\" checked><label for=\"sk-estimator-id-1\" class=\"sk-toggleable__label sk-toggleable__label-arrow\">RandomForestClassifier</label><div class=\"sk-toggleable__content\"><pre>RandomForestClassifier(random_state=42)</pre></div></div></div></div></div>"
            ]
          },
          "metadata": {},
          "execution_count": 41
        }
      ]
    },
    {
      "cell_type": "code",
      "source": [
        "# Fazer previsões no conjunto de teste\n",
        "predicoes = modelo.predict(X_test)"
      ],
      "metadata": {
        "id": "e7DzG-sKSKbZ"
      },
      "execution_count": 43,
      "outputs": []
    },
    {
      "cell_type": "markdown",
      "source": [
        "## O modelo gerou uma acurácia de 81% Ela representa a proporção de previsões corretas em relação ao total de previsões"
      ],
      "metadata": {
        "id": "jqC3s30bB_6E"
      }
    },
    {
      "cell_type": "code",
      "source": [
        "# Avaliar a acurácia do modelo\n",
        "acuracia = accuracy_score(y_test, predicoes)\n",
        "print('Acurácia do modelo:', acuracia)"
      ],
      "metadata": {
        "id": "AeBbwrijSM_v",
        "colab": {
          "base_uri": "https://localhost:8080/"
        },
        "outputId": "7ab45d33-fea2-4e57-d9ec-761db8cd4c0d"
      },
      "execution_count": 44,
      "outputs": [
        {
          "output_type": "stream",
          "name": "stdout",
          "text": [
            "Acurácia do modelo: 0.8126009693053312\n"
          ]
        }
      ]
    },
    {
      "cell_type": "markdown",
      "source": [
        "## Depois fui verificar desses 100 clientes que o modelo registrou qual seria a possibilidade desses clientes irem comprar novamente, lembrando que o modelo utilizou valores Quantidade', 'Preço_Unitário', 'Desconto', 'Frete' como base ou seja quanto os clientes gastaram e com base nisso fez a possivel recompra"
      ],
      "metadata": {
        "id": "lBq2UxYxCmP2"
      }
    },
    {
      "cell_type": "code",
      "source": [
        "# Selecionar os dados dos top 100 clientes da lista classificada\n",
        "top_100_clientes_data = df_periodo[df_periodo['ID_Cliente'].isin(top_100_clientes.index)]"
      ],
      "metadata": {
        "id": "Fq-wnuo2SPcC"
      },
      "execution_count": 45,
      "outputs": []
    },
    {
      "cell_type": "code",
      "source": [
        "# Selecionar as colunas relevantes para a previsão de recompra\n",
        "X_top_100 = top_100_clientes_data[['Quantidade', 'Preço_Unitário', 'Desconto', 'Frete']]"
      ],
      "metadata": {
        "id": "ZqLfILUST-Eu"
      },
      "execution_count": 46,
      "outputs": []
    },
    {
      "cell_type": "code",
      "source": [
        "# Fazer a previsão de recompra para os top 100 clientes\n",
        "predicoes_top_100 = modelo.predict(X_top_100)"
      ],
      "metadata": {
        "id": "YKFLoj6kUBT1"
      },
      "execution_count": 47,
      "outputs": []
    },
    {
      "cell_type": "code",
      "source": [
        "# Adicionar as previsões à lista dos top 100 clientes\n",
        "top_100_clientes_data['recompra_predita'] = predicoes_top_100\n",
        "display(top_100_clientes_data)"
      ],
      "metadata": {
        "id": "GVxRcH_ihLXF"
      },
      "execution_count": null,
      "outputs": []
    },
    {
      "cell_type": "markdown",
      "source": [
        "### Foi obtido o seguinte resultado A proporção de clientes que realizarão a recompra dentre os top 100 clientes é de 99.66%\n"
      ],
      "metadata": {
        "id": "bkAXewSJDaGB"
      }
    },
    {
      "cell_type": "code",
      "source": [
        "proporcao_recompra = sum(predicoes_top_100) / len(predicoes_top_100)\n",
        "print(f\"A proporção de clientes que realizarão a recompra dentre os top 100 clientes é de {proporcao_recompra:.2%}\")"
      ],
      "metadata": {
        "id": "azw7AoR6hN1N",
        "colab": {
          "base_uri": "https://localhost:8080/"
        },
        "outputId": "fd4c605d-4597-418f-fcf8-396e723f9ac6"
      },
      "execution_count": 49,
      "outputs": [
        {
          "output_type": "stream",
          "name": "stdout",
          "text": [
            "A proporção de clientes que realizarão a recompra dentre os top 100 clientes é de 99.66%\n"
          ]
        }
      ]
    },
    {
      "cell_type": "code",
      "source": [
        "clientes_ordenados = top_100_clientes_data.sort_values('recompra_predita', ascending=False)"
      ],
      "metadata": {
        "id": "3Hv8ddzmXtXx"
      },
      "execution_count": 50,
      "outputs": []
    },
    {
      "cell_type": "code",
      "source": [
        "display(clientes_ordenados)"
      ],
      "metadata": {
        "id": "WiIGzpp5dbKA"
      },
      "execution_count": null,
      "outputs": []
    },
    {
      "cell_type": "markdown",
      "source": [
        "### Assim, listei os 100 possíveis clientes que mais possiveis de fazer a recompra nas proximas duas semanas"
      ],
      "metadata": {
        "id": "X2gRXq1UDvMA"
      }
    },
    {
      "cell_type": "code",
      "source": [
        "top_100_clientes_ids = clientes_ordenados.index[:100]\n",
        "\n",
        "# Exibir a lista dos top 100 clientes ordenados pela probabilidade de recompra predita\n",
        "print(\"Lista dos top 100 clientes mais prováveis de fazer uma recompra nas próximas duas semanas:\")\n",
        "for cliente_id in top_100_clientes_ids:\n",
        "    print(cliente_id)\n"
      ],
      "metadata": {
        "id": "Qyz45tRTglQQ"
      },
      "execution_count": null,
      "outputs": []
    },
    {
      "cell_type": "code",
      "source": [
        "top_100_clientes = clientes_ordenados.loc[top_100_clientes_ids, :]\n",
        "display(top_100_clientes)\n"
      ],
      "metadata": {
        "id": "73uxG-nfi1Ac",
        "colab": {
          "base_uri": "https://localhost:8080/",
          "height": 467
        },
        "outputId": "1aae1216-257f-435e-bded-786d037484b3"
      },
      "execution_count": 53,
      "outputs": [
        {
          "output_type": "display_data",
          "data": {
            "text/plain": [
              "        ID_Cliente       Data  ID_Produto  \\\n",
              "28    1.597749e+10 2022-12-17       281.0   \n",
              "1205  1.598475e+10 2022-12-24       462.0   \n",
              "1285  1.560540e+10 2022-12-24       405.0   \n",
              "1287  1.560540e+10 2022-12-24       209.0   \n",
              "1288  1.560540e+10 2022-12-24        84.0   \n",
              "...            ...        ...         ...   \n",
              "927   1.598429e+10 2022-12-23        55.0   \n",
              "928   1.598429e+10 2022-12-23        73.0   \n",
              "929   1.598429e+10 2022-12-23       163.0   \n",
              "930   1.598429e+10 2022-12-23        31.0   \n",
              "931   1.598429e+10 2022-12-23       433.0   \n",
              "\n",
              "                            Descrição_Produto  Quantidade  Preço_Unitário  \\\n",
              "28         Bázica Gola C - Grafite - Air - GG           1           119.0   \n",
              "1205           Bázica Long - Ocean - Air - GG           1           119.0   \n",
              "1285         Bázica Polo - Preta - Pima - XGG           1           257.0   \n",
              "1287          Bázica Lord - Branca - Pima - M           1           247.0   \n",
              "1288      Bázica Gola C - Salmon - Air - XXGG           1           119.0   \n",
              "...                                       ...         ...             ...   \n",
              "927          Bázica Gola C - Branca - Air - P           1           119.0   \n",
              "928           Bázica Gola C - Bordô - Air - P           1           119.0   \n",
              "929            Bázica Gola C - Bali - Air - P           1           119.0   \n",
              "930   Bázica Gola C - Verde Militar - Air - P           1           119.0   \n",
              "931          Bázica Gola C - Toffee - Air - P           1           119.0   \n",
              "\n",
              "      ID_Pedido  Desconto  Frete  Total_do_Pedido  recompra  recompra_predita  \n",
              "28         7851      59.5    0.0            535.5         1                 1  \n",
              "1205       8521       0.0    0.0            476.0         1                 1  \n",
              "1285       8569       0.0    0.0            495.0         1                 1  \n",
              "1287       8571       0.0    0.0            623.0         1                 1  \n",
              "1288       8571       0.0    0.0            623.0         1                 1  \n",
              "...         ...       ...    ...              ...       ...               ...  \n",
              "927        8366       0.0    0.0           1071.0         1                 1  \n",
              "928        8366       0.0    0.0           1071.0         1                 1  \n",
              "929        8366       0.0    0.0           1071.0         1                 1  \n",
              "930        8366       0.0    0.0           1071.0         1                 1  \n",
              "931        8366       0.0    0.0           1071.0         1                 1  \n",
              "\n",
              "[100 rows x 12 columns]"
            ],
            "text/html": [
              "\n",
              "  <div id=\"df-78b42dd8-2269-4821-9e4f-733f3161fe4c\">\n",
              "    <div class=\"colab-df-container\">\n",
              "      <div>\n",
              "<style scoped>\n",
              "    .dataframe tbody tr th:only-of-type {\n",
              "        vertical-align: middle;\n",
              "    }\n",
              "\n",
              "    .dataframe tbody tr th {\n",
              "        vertical-align: top;\n",
              "    }\n",
              "\n",
              "    .dataframe thead th {\n",
              "        text-align: right;\n",
              "    }\n",
              "</style>\n",
              "<table border=\"1\" class=\"dataframe\">\n",
              "  <thead>\n",
              "    <tr style=\"text-align: right;\">\n",
              "      <th></th>\n",
              "      <th>ID_Cliente</th>\n",
              "      <th>Data</th>\n",
              "      <th>ID_Produto</th>\n",
              "      <th>Descrição_Produto</th>\n",
              "      <th>Quantidade</th>\n",
              "      <th>Preço_Unitário</th>\n",
              "      <th>ID_Pedido</th>\n",
              "      <th>Desconto</th>\n",
              "      <th>Frete</th>\n",
              "      <th>Total_do_Pedido</th>\n",
              "      <th>recompra</th>\n",
              "      <th>recompra_predita</th>\n",
              "    </tr>\n",
              "  </thead>\n",
              "  <tbody>\n",
              "    <tr>\n",
              "      <th>28</th>\n",
              "      <td>1.597749e+10</td>\n",
              "      <td>2022-12-17</td>\n",
              "      <td>281.0</td>\n",
              "      <td>Bázica Gola C - Grafite - Air - GG</td>\n",
              "      <td>1</td>\n",
              "      <td>119.0</td>\n",
              "      <td>7851</td>\n",
              "      <td>59.5</td>\n",
              "      <td>0.0</td>\n",
              "      <td>535.5</td>\n",
              "      <td>1</td>\n",
              "      <td>1</td>\n",
              "    </tr>\n",
              "    <tr>\n",
              "      <th>1205</th>\n",
              "      <td>1.598475e+10</td>\n",
              "      <td>2022-12-24</td>\n",
              "      <td>462.0</td>\n",
              "      <td>Bázica Long - Ocean - Air - GG</td>\n",
              "      <td>1</td>\n",
              "      <td>119.0</td>\n",
              "      <td>8521</td>\n",
              "      <td>0.0</td>\n",
              "      <td>0.0</td>\n",
              "      <td>476.0</td>\n",
              "      <td>1</td>\n",
              "      <td>1</td>\n",
              "    </tr>\n",
              "    <tr>\n",
              "      <th>1285</th>\n",
              "      <td>1.560540e+10</td>\n",
              "      <td>2022-12-24</td>\n",
              "      <td>405.0</td>\n",
              "      <td>Bázica Polo - Preta - Pima - XGG</td>\n",
              "      <td>1</td>\n",
              "      <td>257.0</td>\n",
              "      <td>8569</td>\n",
              "      <td>0.0</td>\n",
              "      <td>0.0</td>\n",
              "      <td>495.0</td>\n",
              "      <td>1</td>\n",
              "      <td>1</td>\n",
              "    </tr>\n",
              "    <tr>\n",
              "      <th>1287</th>\n",
              "      <td>1.560540e+10</td>\n",
              "      <td>2022-12-24</td>\n",
              "      <td>209.0</td>\n",
              "      <td>Bázica Lord - Branca - Pima - M</td>\n",
              "      <td>1</td>\n",
              "      <td>247.0</td>\n",
              "      <td>8571</td>\n",
              "      <td>0.0</td>\n",
              "      <td>0.0</td>\n",
              "      <td>623.0</td>\n",
              "      <td>1</td>\n",
              "      <td>1</td>\n",
              "    </tr>\n",
              "    <tr>\n",
              "      <th>1288</th>\n",
              "      <td>1.560540e+10</td>\n",
              "      <td>2022-12-24</td>\n",
              "      <td>84.0</td>\n",
              "      <td>Bázica Gola C - Salmon - Air - XXGG</td>\n",
              "      <td>1</td>\n",
              "      <td>119.0</td>\n",
              "      <td>8571</td>\n",
              "      <td>0.0</td>\n",
              "      <td>0.0</td>\n",
              "      <td>623.0</td>\n",
              "      <td>1</td>\n",
              "      <td>1</td>\n",
              "    </tr>\n",
              "    <tr>\n",
              "      <th>...</th>\n",
              "      <td>...</td>\n",
              "      <td>...</td>\n",
              "      <td>...</td>\n",
              "      <td>...</td>\n",
              "      <td>...</td>\n",
              "      <td>...</td>\n",
              "      <td>...</td>\n",
              "      <td>...</td>\n",
              "      <td>...</td>\n",
              "      <td>...</td>\n",
              "      <td>...</td>\n",
              "      <td>...</td>\n",
              "    </tr>\n",
              "    <tr>\n",
              "      <th>927</th>\n",
              "      <td>1.598429e+10</td>\n",
              "      <td>2022-12-23</td>\n",
              "      <td>55.0</td>\n",
              "      <td>Bázica Gola C - Branca - Air - P</td>\n",
              "      <td>1</td>\n",
              "      <td>119.0</td>\n",
              "      <td>8366</td>\n",
              "      <td>0.0</td>\n",
              "      <td>0.0</td>\n",
              "      <td>1071.0</td>\n",
              "      <td>1</td>\n",
              "      <td>1</td>\n",
              "    </tr>\n",
              "    <tr>\n",
              "      <th>928</th>\n",
              "      <td>1.598429e+10</td>\n",
              "      <td>2022-12-23</td>\n",
              "      <td>73.0</td>\n",
              "      <td>Bázica Gola C - Bordô - Air - P</td>\n",
              "      <td>1</td>\n",
              "      <td>119.0</td>\n",
              "      <td>8366</td>\n",
              "      <td>0.0</td>\n",
              "      <td>0.0</td>\n",
              "      <td>1071.0</td>\n",
              "      <td>1</td>\n",
              "      <td>1</td>\n",
              "    </tr>\n",
              "    <tr>\n",
              "      <th>929</th>\n",
              "      <td>1.598429e+10</td>\n",
              "      <td>2022-12-23</td>\n",
              "      <td>163.0</td>\n",
              "      <td>Bázica Gola C - Bali - Air - P</td>\n",
              "      <td>1</td>\n",
              "      <td>119.0</td>\n",
              "      <td>8366</td>\n",
              "      <td>0.0</td>\n",
              "      <td>0.0</td>\n",
              "      <td>1071.0</td>\n",
              "      <td>1</td>\n",
              "      <td>1</td>\n",
              "    </tr>\n",
              "    <tr>\n",
              "      <th>930</th>\n",
              "      <td>1.598429e+10</td>\n",
              "      <td>2022-12-23</td>\n",
              "      <td>31.0</td>\n",
              "      <td>Bázica Gola C - Verde Militar - Air - P</td>\n",
              "      <td>1</td>\n",
              "      <td>119.0</td>\n",
              "      <td>8366</td>\n",
              "      <td>0.0</td>\n",
              "      <td>0.0</td>\n",
              "      <td>1071.0</td>\n",
              "      <td>1</td>\n",
              "      <td>1</td>\n",
              "    </tr>\n",
              "    <tr>\n",
              "      <th>931</th>\n",
              "      <td>1.598429e+10</td>\n",
              "      <td>2022-12-23</td>\n",
              "      <td>433.0</td>\n",
              "      <td>Bázica Gola C - Toffee - Air - P</td>\n",
              "      <td>1</td>\n",
              "      <td>119.0</td>\n",
              "      <td>8366</td>\n",
              "      <td>0.0</td>\n",
              "      <td>0.0</td>\n",
              "      <td>1071.0</td>\n",
              "      <td>1</td>\n",
              "      <td>1</td>\n",
              "    </tr>\n",
              "  </tbody>\n",
              "</table>\n",
              "<p>100 rows × 12 columns</p>\n",
              "</div>\n",
              "      <button class=\"colab-df-convert\" onclick=\"convertToInteractive('df-78b42dd8-2269-4821-9e4f-733f3161fe4c')\"\n",
              "              title=\"Convert this dataframe to an interactive table.\"\n",
              "              style=\"display:none;\">\n",
              "        \n",
              "  <svg xmlns=\"http://www.w3.org/2000/svg\" height=\"24px\"viewBox=\"0 0 24 24\"\n",
              "       width=\"24px\">\n",
              "    <path d=\"M0 0h24v24H0V0z\" fill=\"none\"/>\n",
              "    <path d=\"M18.56 5.44l.94 2.06.94-2.06 2.06-.94-2.06-.94-.94-2.06-.94 2.06-2.06.94zm-11 1L8.5 8.5l.94-2.06 2.06-.94-2.06-.94L8.5 2.5l-.94 2.06-2.06.94zm10 10l.94 2.06.94-2.06 2.06-.94-2.06-.94-.94-2.06-.94 2.06-2.06.94z\"/><path d=\"M17.41 7.96l-1.37-1.37c-.4-.4-.92-.59-1.43-.59-.52 0-1.04.2-1.43.59L10.3 9.45l-7.72 7.72c-.78.78-.78 2.05 0 2.83L4 21.41c.39.39.9.59 1.41.59.51 0 1.02-.2 1.41-.59l7.78-7.78 2.81-2.81c.8-.78.8-2.07 0-2.86zM5.41 20L4 18.59l7.72-7.72 1.47 1.35L5.41 20z\"/>\n",
              "  </svg>\n",
              "      </button>\n",
              "      \n",
              "  <style>\n",
              "    .colab-df-container {\n",
              "      display:flex;\n",
              "      flex-wrap:wrap;\n",
              "      gap: 12px;\n",
              "    }\n",
              "\n",
              "    .colab-df-convert {\n",
              "      background-color: #E8F0FE;\n",
              "      border: none;\n",
              "      border-radius: 50%;\n",
              "      cursor: pointer;\n",
              "      display: none;\n",
              "      fill: #1967D2;\n",
              "      height: 32px;\n",
              "      padding: 0 0 0 0;\n",
              "      width: 32px;\n",
              "    }\n",
              "\n",
              "    .colab-df-convert:hover {\n",
              "      background-color: #E2EBFA;\n",
              "      box-shadow: 0px 1px 2px rgba(60, 64, 67, 0.3), 0px 1px 3px 1px rgba(60, 64, 67, 0.15);\n",
              "      fill: #174EA6;\n",
              "    }\n",
              "\n",
              "    [theme=dark] .colab-df-convert {\n",
              "      background-color: #3B4455;\n",
              "      fill: #D2E3FC;\n",
              "    }\n",
              "\n",
              "    [theme=dark] .colab-df-convert:hover {\n",
              "      background-color: #434B5C;\n",
              "      box-shadow: 0px 1px 3px 1px rgba(0, 0, 0, 0.15);\n",
              "      filter: drop-shadow(0px 1px 2px rgba(0, 0, 0, 0.3));\n",
              "      fill: #FFFFFF;\n",
              "    }\n",
              "  </style>\n",
              "\n",
              "      <script>\n",
              "        const buttonEl =\n",
              "          document.querySelector('#df-78b42dd8-2269-4821-9e4f-733f3161fe4c button.colab-df-convert');\n",
              "        buttonEl.style.display =\n",
              "          google.colab.kernel.accessAllowed ? 'block' : 'none';\n",
              "\n",
              "        async function convertToInteractive(key) {\n",
              "          const element = document.querySelector('#df-78b42dd8-2269-4821-9e4f-733f3161fe4c');\n",
              "          const dataTable =\n",
              "            await google.colab.kernel.invokeFunction('convertToInteractive',\n",
              "                                                     [key], {});\n",
              "          if (!dataTable) return;\n",
              "\n",
              "          const docLinkHtml = 'Like what you see? Visit the ' +\n",
              "            '<a target=\"_blank\" href=https://colab.research.google.com/notebooks/data_table.ipynb>data table notebook</a>'\n",
              "            + ' to learn more about interactive tables.';\n",
              "          element.innerHTML = '';\n",
              "          dataTable['output_type'] = 'display_data';\n",
              "          await google.colab.output.renderOutput(dataTable, element);\n",
              "          const docLink = document.createElement('div');\n",
              "          docLink.innerHTML = docLinkHtml;\n",
              "          element.appendChild(docLink);\n",
              "        }\n",
              "      </script>\n",
              "    </div>\n",
              "  </div>\n",
              "  "
            ]
          },
          "metadata": {}
        }
      ]
    },
    {
      "cell_type": "markdown",
      "source": [
        "### Agrupei os clientes com base nos valores gastos e fiz um intervalo, entre  ate 400R$, 400 - 800, mais de 800. O intuito desse agrupamento é foi separar os clientes pelas compras a fim de identificar onde direcionar campanhas de marketing, essa parte será mais detalhada no relatório\n"
      ],
      "metadata": {
        "id": "-QbS8x4GECA2"
      }
    },
    {
      "cell_type": "code",
      "source": [
        "\n",
        "top_100_clientes['Total_do_Pedido'].groupby(top_100_clientes['ID_Cliente']).mean()\n"
      ],
      "metadata": {
        "id": "V8MVdqCZRDpt",
        "colab": {
          "base_uri": "https://localhost:8080/"
        },
        "outputId": "321d9a78-9de0-4878-a4ca-9c1c5ce8da6f"
      },
      "execution_count": 54,
      "outputs": [
        {
          "output_type": "execute_result",
          "data": {
            "text/plain": [
              "ID_Cliente\n",
              "1.226840e+10     309.40\n",
              "1.248850e+10     503.00\n",
              "1.327263e+10     476.00\n",
              "1.486010e+10     915.00\n",
              "1.503555e+10     381.00\n",
              "1.508553e+10     595.00\n",
              "1.556073e+10     595.00\n",
              "1.560540e+10     559.00\n",
              "1.574424e+10    1098.00\n",
              "1.581283e+10     238.00\n",
              "1.597749e+10     535.50\n",
              "1.597850e+10     119.00\n",
              "1.598072e+10     346.00\n",
              "1.598116e+10     119.00\n",
              "1.598368e+10     485.00\n",
              "1.598429e+10    1071.00\n",
              "1.598438e+10     476.00\n",
              "1.598450e+10     454.00\n",
              "1.598475e+10     476.00\n",
              "1.598482e+10     476.00\n",
              "1.598488e+10     418.88\n",
              "1.598494e+10     238.00\n",
              "1.598496e+10     837.00\n",
              "1.598583e+10     722.70\n",
              "1.598600e+10     573.00\n",
              "Name: Total_do_Pedido, dtype: float64"
            ]
          },
          "metadata": {},
          "execution_count": 54
        }
      ]
    },
    {
      "cell_type": "code",
      "source": [
        "top_100_clientes['Categoria'] = pd.cut(top_100_clientes['Total_do_Pedido'], bins=[0, 400, 800, np.inf], labels=['Até R$ 400', 'De R$ 400 a R$ 800', 'Acima de R$ 800'])\n",
        "display(top_100_clientes)"
      ],
      "metadata": {
        "id": "zeOE2sBsYXFN",
        "colab": {
          "base_uri": "https://localhost:8080/",
          "height": 641
        },
        "outputId": "d3f68306-f995-4ddb-8903-c1bed814734c"
      },
      "execution_count": 55,
      "outputs": [
        {
          "output_type": "display_data",
          "data": {
            "text/plain": [
              "        ID_Cliente       Data  ID_Produto  \\\n",
              "28    1.597749e+10 2022-12-17       281.0   \n",
              "1205  1.598475e+10 2022-12-24       462.0   \n",
              "1285  1.560540e+10 2022-12-24       405.0   \n",
              "1287  1.560540e+10 2022-12-24       209.0   \n",
              "1288  1.560540e+10 2022-12-24        84.0   \n",
              "...            ...        ...         ...   \n",
              "927   1.598429e+10 2022-12-23        55.0   \n",
              "928   1.598429e+10 2022-12-23        73.0   \n",
              "929   1.598429e+10 2022-12-23       163.0   \n",
              "930   1.598429e+10 2022-12-23        31.0   \n",
              "931   1.598429e+10 2022-12-23       433.0   \n",
              "\n",
              "                            Descrição_Produto  Quantidade  Preço_Unitário  \\\n",
              "28         Bázica Gola C - Grafite - Air - GG           1           119.0   \n",
              "1205           Bázica Long - Ocean - Air - GG           1           119.0   \n",
              "1285         Bázica Polo - Preta - Pima - XGG           1           257.0   \n",
              "1287          Bázica Lord - Branca - Pima - M           1           247.0   \n",
              "1288      Bázica Gola C - Salmon - Air - XXGG           1           119.0   \n",
              "...                                       ...         ...             ...   \n",
              "927          Bázica Gola C - Branca - Air - P           1           119.0   \n",
              "928           Bázica Gola C - Bordô - Air - P           1           119.0   \n",
              "929            Bázica Gola C - Bali - Air - P           1           119.0   \n",
              "930   Bázica Gola C - Verde Militar - Air - P           1           119.0   \n",
              "931          Bázica Gola C - Toffee - Air - P           1           119.0   \n",
              "\n",
              "      ID_Pedido  Desconto  Frete  Total_do_Pedido  recompra  recompra_predita  \\\n",
              "28         7851      59.5    0.0            535.5         1                 1   \n",
              "1205       8521       0.0    0.0            476.0         1                 1   \n",
              "1285       8569       0.0    0.0            495.0         1                 1   \n",
              "1287       8571       0.0    0.0            623.0         1                 1   \n",
              "1288       8571       0.0    0.0            623.0         1                 1   \n",
              "...         ...       ...    ...              ...       ...               ...   \n",
              "927        8366       0.0    0.0           1071.0         1                 1   \n",
              "928        8366       0.0    0.0           1071.0         1                 1   \n",
              "929        8366       0.0    0.0           1071.0         1                 1   \n",
              "930        8366       0.0    0.0           1071.0         1                 1   \n",
              "931        8366       0.0    0.0           1071.0         1                 1   \n",
              "\n",
              "               Categoria  \n",
              "28    De R$ 400 a R$ 800  \n",
              "1205  De R$ 400 a R$ 800  \n",
              "1285  De R$ 400 a R$ 800  \n",
              "1287  De R$ 400 a R$ 800  \n",
              "1288  De R$ 400 a R$ 800  \n",
              "...                  ...  \n",
              "927      Acima de R$ 800  \n",
              "928      Acima de R$ 800  \n",
              "929      Acima de R$ 800  \n",
              "930      Acima de R$ 800  \n",
              "931      Acima de R$ 800  \n",
              "\n",
              "[100 rows x 13 columns]"
            ],
            "text/html": [
              "\n",
              "  <div id=\"df-181cad41-4864-462f-ae5b-7a00f521025b\">\n",
              "    <div class=\"colab-df-container\">\n",
              "      <div>\n",
              "<style scoped>\n",
              "    .dataframe tbody tr th:only-of-type {\n",
              "        vertical-align: middle;\n",
              "    }\n",
              "\n",
              "    .dataframe tbody tr th {\n",
              "        vertical-align: top;\n",
              "    }\n",
              "\n",
              "    .dataframe thead th {\n",
              "        text-align: right;\n",
              "    }\n",
              "</style>\n",
              "<table border=\"1\" class=\"dataframe\">\n",
              "  <thead>\n",
              "    <tr style=\"text-align: right;\">\n",
              "      <th></th>\n",
              "      <th>ID_Cliente</th>\n",
              "      <th>Data</th>\n",
              "      <th>ID_Produto</th>\n",
              "      <th>Descrição_Produto</th>\n",
              "      <th>Quantidade</th>\n",
              "      <th>Preço_Unitário</th>\n",
              "      <th>ID_Pedido</th>\n",
              "      <th>Desconto</th>\n",
              "      <th>Frete</th>\n",
              "      <th>Total_do_Pedido</th>\n",
              "      <th>recompra</th>\n",
              "      <th>recompra_predita</th>\n",
              "      <th>Categoria</th>\n",
              "    </tr>\n",
              "  </thead>\n",
              "  <tbody>\n",
              "    <tr>\n",
              "      <th>28</th>\n",
              "      <td>1.597749e+10</td>\n",
              "      <td>2022-12-17</td>\n",
              "      <td>281.0</td>\n",
              "      <td>Bázica Gola C - Grafite - Air - GG</td>\n",
              "      <td>1</td>\n",
              "      <td>119.0</td>\n",
              "      <td>7851</td>\n",
              "      <td>59.5</td>\n",
              "      <td>0.0</td>\n",
              "      <td>535.5</td>\n",
              "      <td>1</td>\n",
              "      <td>1</td>\n",
              "      <td>De R$ 400 a R$ 800</td>\n",
              "    </tr>\n",
              "    <tr>\n",
              "      <th>1205</th>\n",
              "      <td>1.598475e+10</td>\n",
              "      <td>2022-12-24</td>\n",
              "      <td>462.0</td>\n",
              "      <td>Bázica Long - Ocean - Air - GG</td>\n",
              "      <td>1</td>\n",
              "      <td>119.0</td>\n",
              "      <td>8521</td>\n",
              "      <td>0.0</td>\n",
              "      <td>0.0</td>\n",
              "      <td>476.0</td>\n",
              "      <td>1</td>\n",
              "      <td>1</td>\n",
              "      <td>De R$ 400 a R$ 800</td>\n",
              "    </tr>\n",
              "    <tr>\n",
              "      <th>1285</th>\n",
              "      <td>1.560540e+10</td>\n",
              "      <td>2022-12-24</td>\n",
              "      <td>405.0</td>\n",
              "      <td>Bázica Polo - Preta - Pima - XGG</td>\n",
              "      <td>1</td>\n",
              "      <td>257.0</td>\n",
              "      <td>8569</td>\n",
              "      <td>0.0</td>\n",
              "      <td>0.0</td>\n",
              "      <td>495.0</td>\n",
              "      <td>1</td>\n",
              "      <td>1</td>\n",
              "      <td>De R$ 400 a R$ 800</td>\n",
              "    </tr>\n",
              "    <tr>\n",
              "      <th>1287</th>\n",
              "      <td>1.560540e+10</td>\n",
              "      <td>2022-12-24</td>\n",
              "      <td>209.0</td>\n",
              "      <td>Bázica Lord - Branca - Pima - M</td>\n",
              "      <td>1</td>\n",
              "      <td>247.0</td>\n",
              "      <td>8571</td>\n",
              "      <td>0.0</td>\n",
              "      <td>0.0</td>\n",
              "      <td>623.0</td>\n",
              "      <td>1</td>\n",
              "      <td>1</td>\n",
              "      <td>De R$ 400 a R$ 800</td>\n",
              "    </tr>\n",
              "    <tr>\n",
              "      <th>1288</th>\n",
              "      <td>1.560540e+10</td>\n",
              "      <td>2022-12-24</td>\n",
              "      <td>84.0</td>\n",
              "      <td>Bázica Gola C - Salmon - Air - XXGG</td>\n",
              "      <td>1</td>\n",
              "      <td>119.0</td>\n",
              "      <td>8571</td>\n",
              "      <td>0.0</td>\n",
              "      <td>0.0</td>\n",
              "      <td>623.0</td>\n",
              "      <td>1</td>\n",
              "      <td>1</td>\n",
              "      <td>De R$ 400 a R$ 800</td>\n",
              "    </tr>\n",
              "    <tr>\n",
              "      <th>...</th>\n",
              "      <td>...</td>\n",
              "      <td>...</td>\n",
              "      <td>...</td>\n",
              "      <td>...</td>\n",
              "      <td>...</td>\n",
              "      <td>...</td>\n",
              "      <td>...</td>\n",
              "      <td>...</td>\n",
              "      <td>...</td>\n",
              "      <td>...</td>\n",
              "      <td>...</td>\n",
              "      <td>...</td>\n",
              "      <td>...</td>\n",
              "    </tr>\n",
              "    <tr>\n",
              "      <th>927</th>\n",
              "      <td>1.598429e+10</td>\n",
              "      <td>2022-12-23</td>\n",
              "      <td>55.0</td>\n",
              "      <td>Bázica Gola C - Branca - Air - P</td>\n",
              "      <td>1</td>\n",
              "      <td>119.0</td>\n",
              "      <td>8366</td>\n",
              "      <td>0.0</td>\n",
              "      <td>0.0</td>\n",
              "      <td>1071.0</td>\n",
              "      <td>1</td>\n",
              "      <td>1</td>\n",
              "      <td>Acima de R$ 800</td>\n",
              "    </tr>\n",
              "    <tr>\n",
              "      <th>928</th>\n",
              "      <td>1.598429e+10</td>\n",
              "      <td>2022-12-23</td>\n",
              "      <td>73.0</td>\n",
              "      <td>Bázica Gola C - Bordô - Air - P</td>\n",
              "      <td>1</td>\n",
              "      <td>119.0</td>\n",
              "      <td>8366</td>\n",
              "      <td>0.0</td>\n",
              "      <td>0.0</td>\n",
              "      <td>1071.0</td>\n",
              "      <td>1</td>\n",
              "      <td>1</td>\n",
              "      <td>Acima de R$ 800</td>\n",
              "    </tr>\n",
              "    <tr>\n",
              "      <th>929</th>\n",
              "      <td>1.598429e+10</td>\n",
              "      <td>2022-12-23</td>\n",
              "      <td>163.0</td>\n",
              "      <td>Bázica Gola C - Bali - Air - P</td>\n",
              "      <td>1</td>\n",
              "      <td>119.0</td>\n",
              "      <td>8366</td>\n",
              "      <td>0.0</td>\n",
              "      <td>0.0</td>\n",
              "      <td>1071.0</td>\n",
              "      <td>1</td>\n",
              "      <td>1</td>\n",
              "      <td>Acima de R$ 800</td>\n",
              "    </tr>\n",
              "    <tr>\n",
              "      <th>930</th>\n",
              "      <td>1.598429e+10</td>\n",
              "      <td>2022-12-23</td>\n",
              "      <td>31.0</td>\n",
              "      <td>Bázica Gola C - Verde Militar - Air - P</td>\n",
              "      <td>1</td>\n",
              "      <td>119.0</td>\n",
              "      <td>8366</td>\n",
              "      <td>0.0</td>\n",
              "      <td>0.0</td>\n",
              "      <td>1071.0</td>\n",
              "      <td>1</td>\n",
              "      <td>1</td>\n",
              "      <td>Acima de R$ 800</td>\n",
              "    </tr>\n",
              "    <tr>\n",
              "      <th>931</th>\n",
              "      <td>1.598429e+10</td>\n",
              "      <td>2022-12-23</td>\n",
              "      <td>433.0</td>\n",
              "      <td>Bázica Gola C - Toffee - Air - P</td>\n",
              "      <td>1</td>\n",
              "      <td>119.0</td>\n",
              "      <td>8366</td>\n",
              "      <td>0.0</td>\n",
              "      <td>0.0</td>\n",
              "      <td>1071.0</td>\n",
              "      <td>1</td>\n",
              "      <td>1</td>\n",
              "      <td>Acima de R$ 800</td>\n",
              "    </tr>\n",
              "  </tbody>\n",
              "</table>\n",
              "<p>100 rows × 13 columns</p>\n",
              "</div>\n",
              "      <button class=\"colab-df-convert\" onclick=\"convertToInteractive('df-181cad41-4864-462f-ae5b-7a00f521025b')\"\n",
              "              title=\"Convert this dataframe to an interactive table.\"\n",
              "              style=\"display:none;\">\n",
              "        \n",
              "  <svg xmlns=\"http://www.w3.org/2000/svg\" height=\"24px\"viewBox=\"0 0 24 24\"\n",
              "       width=\"24px\">\n",
              "    <path d=\"M0 0h24v24H0V0z\" fill=\"none\"/>\n",
              "    <path d=\"M18.56 5.44l.94 2.06.94-2.06 2.06-.94-2.06-.94-.94-2.06-.94 2.06-2.06.94zm-11 1L8.5 8.5l.94-2.06 2.06-.94-2.06-.94L8.5 2.5l-.94 2.06-2.06.94zm10 10l.94 2.06.94-2.06 2.06-.94-2.06-.94-.94-2.06-.94 2.06-2.06.94z\"/><path d=\"M17.41 7.96l-1.37-1.37c-.4-.4-.92-.59-1.43-.59-.52 0-1.04.2-1.43.59L10.3 9.45l-7.72 7.72c-.78.78-.78 2.05 0 2.83L4 21.41c.39.39.9.59 1.41.59.51 0 1.02-.2 1.41-.59l7.78-7.78 2.81-2.81c.8-.78.8-2.07 0-2.86zM5.41 20L4 18.59l7.72-7.72 1.47 1.35L5.41 20z\"/>\n",
              "  </svg>\n",
              "      </button>\n",
              "      \n",
              "  <style>\n",
              "    .colab-df-container {\n",
              "      display:flex;\n",
              "      flex-wrap:wrap;\n",
              "      gap: 12px;\n",
              "    }\n",
              "\n",
              "    .colab-df-convert {\n",
              "      background-color: #E8F0FE;\n",
              "      border: none;\n",
              "      border-radius: 50%;\n",
              "      cursor: pointer;\n",
              "      display: none;\n",
              "      fill: #1967D2;\n",
              "      height: 32px;\n",
              "      padding: 0 0 0 0;\n",
              "      width: 32px;\n",
              "    }\n",
              "\n",
              "    .colab-df-convert:hover {\n",
              "      background-color: #E2EBFA;\n",
              "      box-shadow: 0px 1px 2px rgba(60, 64, 67, 0.3), 0px 1px 3px 1px rgba(60, 64, 67, 0.15);\n",
              "      fill: #174EA6;\n",
              "    }\n",
              "\n",
              "    [theme=dark] .colab-df-convert {\n",
              "      background-color: #3B4455;\n",
              "      fill: #D2E3FC;\n",
              "    }\n",
              "\n",
              "    [theme=dark] .colab-df-convert:hover {\n",
              "      background-color: #434B5C;\n",
              "      box-shadow: 0px 1px 3px 1px rgba(0, 0, 0, 0.15);\n",
              "      filter: drop-shadow(0px 1px 2px rgba(0, 0, 0, 0.3));\n",
              "      fill: #FFFFFF;\n",
              "    }\n",
              "  </style>\n",
              "\n",
              "      <script>\n",
              "        const buttonEl =\n",
              "          document.querySelector('#df-181cad41-4864-462f-ae5b-7a00f521025b button.colab-df-convert');\n",
              "        buttonEl.style.display =\n",
              "          google.colab.kernel.accessAllowed ? 'block' : 'none';\n",
              "\n",
              "        async function convertToInteractive(key) {\n",
              "          const element = document.querySelector('#df-181cad41-4864-462f-ae5b-7a00f521025b');\n",
              "          const dataTable =\n",
              "            await google.colab.kernel.invokeFunction('convertToInteractive',\n",
              "                                                     [key], {});\n",
              "          if (!dataTable) return;\n",
              "\n",
              "          const docLinkHtml = 'Like what you see? Visit the ' +\n",
              "            '<a target=\"_blank\" href=https://colab.research.google.com/notebooks/data_table.ipynb>data table notebook</a>'\n",
              "            + ' to learn more about interactive tables.';\n",
              "          element.innerHTML = '';\n",
              "          dataTable['output_type'] = 'display_data';\n",
              "          await google.colab.output.renderOutput(dataTable, element);\n",
              "          const docLink = document.createElement('div');\n",
              "          docLink.innerHTML = docLinkHtml;\n",
              "          element.appendChild(docLink);\n",
              "        }\n",
              "      </script>\n",
              "    </div>\n",
              "  </div>\n",
              "  "
            ]
          },
          "metadata": {}
        }
      ]
    },
    {
      "cell_type": "markdown",
      "source": [
        "# Separei as catégorias para ter uma ideia mais visual das quantidades de pessoas e plotei um grafico para ficar mais visual"
      ],
      "metadata": {
        "id": "SuxzpZa6FC6_"
      }
    },
    {
      "cell_type": "code",
      "source": [
        "categorias = top_100_clientes['Categoria'].value_counts(sort=True, ascending=True)\n",
        "print(categorias)"
      ],
      "metadata": {
        "id": "IIRALe3bZAWe",
        "colab": {
          "base_uri": "https://localhost:8080/"
        },
        "outputId": "42bebe4c-4250-466d-9f63-7777f5d4a33c"
      },
      "execution_count": 56,
      "outputs": [
        {
          "output_type": "stream",
          "name": "stdout",
          "text": [
            "Até R$ 400            14\n",
            "Acima de R$ 800       27\n",
            "De R$ 400 a R$ 800    59\n",
            "Name: Categoria, dtype: int64\n"
          ]
        }
      ]
    },
    {
      "cell_type": "code",
      "source": [
        "count_categoria = top_100_clientes['Categoria'].value_counts().sort_index()\n",
        "plt.figure(figsize=(5, 4))\n",
        "plt.bar(count_categoria.index, count_categoria.values, color=['#1f77b4', '#ff7f0e', '#2ca02c'])\n",
        "plt.title('Distribuição de clientes por categoria de valor de compra', fontsize=14)\n",
        "plt.xlabel('Categoria de valor de compra', fontsize=12)\n",
        "plt.ylabel('Número de clientes', fontsize=12)\n",
        "plt.xticks(rotation=45, ha='right')\n",
        "plt.grid(axis='y', linestyle='--')\n",
        "plt.show()\n"
      ],
      "metadata": {
        "id": "044uF5BUZTEQ",
        "colab": {
          "base_uri": "https://localhost:8080/",
          "height": 495
        },
        "outputId": "f1b4f711-ab8c-4023-acdc-23330a34e8df"
      },
      "execution_count": 42,
      "outputs": [
        {
          "output_type": "display_data",
          "data": {
            "text/plain": [
              "<Figure size 500x400 with 1 Axes>"
            ],
            "image/png": "[encoded data removed]"
          },
          "metadata": {}
        }
      ]
    },
    {
      "cell_type": "markdown",
      "source": [
        "## Aqui fiz o modelo baseado na frequência e utilizei a regressão linear como base no modelo, foi um modelo mais simples que chegou em um bom resultado e listou os 100 possíveis clientes que irão fazer a recompra com base na frequência e no total gasto por cada um"
      ],
      "metadata": {
        "id": "uwcBGtmdCrEY"
      }
    },
    {
      "cell_type": "code",
      "source": [
        "from sklearn.linear_model import LinearRegression\n",
        "\n",
        "# Separando os dados em conjuntos de treinamento e teste\n",
        "X_train, X_test, y_train, y_test = train_test_split(df_freq_total['Freq_Compra'], df_freq_total['Total_Gasto'], test_size=0.2, random_state=42)\n",
        "\n",
        "# Ajustando um modelo de regressão linear simples\n",
        "model = LinearRegression()\n",
        "model.fit(X_train.values.reshape(-1, 1), y_train)\n",
        "\n",
        "# Avaliando o desempenho do modelo no conjunto de teste\n",
        "score = model.score(X_test.values.reshape(-1, 1), y_test)\n",
        "print(f'R2 score: {score:.3f}')\n"
      ],
      "metadata": {
        "colab": {
          "base_uri": "https://localhost:8080/"
        },
        "id": "MwpKoVRg3ytS",
        "outputId": "9fae9878-9991-4382-a57e-87403f3a942e"
      },
      "execution_count": 57,
      "outputs": [
        {
          "output_type": "stream",
          "name": "stdout",
          "text": [
            "R2 score: 0.441\n"
          ]
        }
      ]
    },
    {
      "cell_type": "code",
      "source": [
        "\n",
        "pd.set_option('display.max_rows', None)\n",
        "mediana_freq = df_freq_total['Freq_Compra'].median()\n",
        "df_freq_total['Recompra'] = df_freq_total['Freq_Compra'].apply(lambda x: 1 if x >= mediana_freq else 0)\n",
        "df_top_100 = df_freq_total[df_freq_total['Recompra'] == 1].sort_values(by='Freq_Compra', ascending=False).head(100)\n",
        "display(df_top_100)\n"
      ],
      "metadata": {
        "colab": {
          "base_uri": "https://localhost:8080/",
          "height": 1000
        },
        "id": "cOwtMFhRB4IC",
        "outputId": "e8e9ee7e-44d5-40a7-ae11-49464a3d90cc"
      },
      "execution_count": 80,
      "outputs": [
        {
          "output_type": "display_data",
          "data": {
            "text/plain": [
              "        ID_Cliente  Freq_Compra  Total_Gasto  Recompra\n",
              "109   1.226840e+10           43     23123.30         1\n",
              "331   1.408880e+10           31     14518.80         1\n",
              "121   1.242904e+10           27      8548.80         1\n",
              "184   1.273229e+10           26      6988.83         1\n",
              "131   1.242935e+10           24      7019.70         1\n",
              "1267  1.569230e+10           23      6556.00         1\n",
              "1128  1.566235e+10           21      8295.40         1\n",
              "1873  1.578848e+10           20      6527.98         1\n",
              "405   1.446321e+10           20      9085.00         1\n",
              "1050  1.562501e+10           19     16566.92         1\n",
              "195   1.286821e+10           19     12187.69         1\n",
              "951   1.560633e+10           19     12330.00         1\n",
              "664   1.535797e+10           18      7098.80         1\n",
              "1627  1.576201e+10           18      5728.81         1\n",
              "251   1.358921e+10           17      3755.60         1\n",
              "497   1.484935e+10           16      3956.00         1\n",
              "1508  1.574564e+10           16      5125.00         1\n",
              "132   1.242938e+10           16      3755.50         1\n",
              "128   1.242917e+10           16      9356.70         1\n",
              "505   1.485325e+10           16      6339.00         1\n",
              "127   1.242915e+10           15     15218.30         1\n",
              "2038  1.581689e+10           15      5471.20         1\n",
              "1865  1.578746e+10           15      7905.00         1\n",
              "1948  1.580584e+10           15      4577.80         1\n",
              "749   1.553349e+10           15     15176.52         1\n",
              "784   1.558890e+10           15      5710.13         1\n",
              "968   1.560641e+10           15     24463.00         1\n",
              "1274  1.569403e+10           15      4332.14         1\n",
              "1457  1.573798e+10           15      6636.01         1\n",
              "1250  1.569043e+10           15      5780.00         1\n",
              "1324  1.570696e+10           14      3560.01         1\n",
              "193   1.286816e+10           14     11914.60         1\n",
              "842   1.560258e+10           14      7259.37         1\n",
              "583   1.514576e+10           14      5369.80         1\n",
              "1597  1.575895e+10           14      7178.00         1\n",
              "621   1.530061e+10           14      7456.00         1\n",
              "133   1.242939e+10           13      8126.90         1\n",
              "255   1.361162e+10           13     25666.80         1\n",
              "115   1.238377e+10           13      5531.53         1\n",
              "1568  1.575571e+10           13      7160.97         1\n",
              "212   1.302232e+10           13      4352.70         1\n",
              "215   1.303115e+10           13      2297.83         1\n",
              "1747  1.577181e+10           13      4867.30         1\n",
              "641   1.532131e+10           13         1.00         1\n",
              "1283  1.569531e+10           13      4741.00         1\n",
              "292   1.381611e+10           13      9104.81         1\n",
              "577   1.512240e+10           12      2832.07         1\n",
              "176   1.257463e+10           12      8871.30         1\n",
              "2289  1.585883e+10           12      4122.00         1\n",
              "843   1.560274e+10           12      5148.00         1\n",
              "549   1.503154e+10           12      5284.00         1\n",
              "1578  1.575747e+10           12      3570.00         1\n",
              "149   1.243838e+10           11      6619.73         1\n",
              "2069  1.582084e+10           11      2727.00         1\n",
              "1432  1.573419e+10           11      3461.00         1\n",
              "118   1.238509e+10           11      7568.37         1\n",
              "481   1.472990e+10           11      4139.23         1\n",
              "202   1.297110e+10           11     10020.45         1\n",
              "185   1.278849e+10           11     29162.80         1\n",
              "272   1.372670e+10           11      3686.00         1\n",
              "502   1.485245e+10           11      5560.82         1\n",
              "376   1.439890e+10           11      7403.69         1\n",
              "1039  1.562303e+10           11      2701.76         1\n",
              "293   1.381735e+10           11      8213.20         1\n",
              "370   1.437455e+10           11      4357.00         1\n",
              "1956  1.580671e+10           10      4264.00         1\n",
              "1771  1.577486e+10           10      3968.80         1\n",
              "156   1.244779e+10           10      2680.48         1\n",
              "355   1.427906e+10           10      2377.00         1\n",
              "366   1.435843e+10           10      8340.00         1\n",
              "777   1.558079e+10           10      3601.40         1\n",
              "157   1.244800e+10           10      3857.80         1\n",
              "929   1.560595e+10           10      7609.67         1\n",
              "248   1.350939e+10           10      3921.60         1\n",
              "438   1.450821e+10           10      6673.68         1\n",
              "476   1.470600e+10           10      4201.11         1\n",
              "910   1.560540e+10            9     19956.00         1\n",
              "609   1.523980e+10            9      8407.60         1\n",
              "164   1.247551e+10            9      3481.90         1\n",
              "308   1.392092e+10            9      9718.50         1\n",
              "266   1.369049e+10            9      2475.58         1\n",
              "507   1.485393e+10            9     11253.52         1\n",
              "143   1.243448e+10            9      3891.90         1\n",
              "424   1.447397e+10            9      2419.01         1\n",
              "252   1.359552e+10            9      2543.65         1\n",
              "431   1.447981e+10            9      8524.04         1\n",
              "1509  1.574602e+10            9      5502.02         1\n",
              "1226  1.568548e+10            9      1802.00         1\n",
              "523   1.492140e+10            9      7587.60         1\n",
              "525   1.493549e+10            9      5240.02         1\n",
              "1821  1.578480e+10            9      2194.00         1\n",
              "1052  1.562501e+10            9      6272.39         1\n",
              "1589  1.575823e+10            9      6027.91         1\n",
              "145   1.243529e+10            9      1208.80         1\n",
              "225   1.326539e+10            9     15828.50         1\n",
              "688   1.536742e+10            9      6636.19         1\n",
              "1938  1.580384e+10            9      4747.30         1\n",
              "1256  1.569073e+10            9      3816.88         1\n",
              "374   1.439843e+10            9      5597.00         1\n",
              "1238  1.568752e+10            9      1765.85         1"
            ],
            "text/html": [
              "\n",
              "  <div id=\"df-f94062f7-ebeb-4a60-a760-949ee0c5eed8\">\n",
              "    <div class=\"colab-df-container\">\n",
              "      <div>\n",
              "<style scoped>\n",
              "    .dataframe tbody tr th:only-of-type {\n",
              "        vertical-align: middle;\n",
              "    }\n",
              "\n",
              "    .dataframe tbody tr th {\n",
              "        vertical-align: top;\n",
              "    }\n",
              "\n",
              "    .dataframe thead th {\n",
              "        text-align: right;\n",
              "    }\n",
              "</style>\n",
              "<table border=\"1\" class=\"dataframe\">\n",
              "  <thead>\n",
              "    <tr style=\"text-align: right;\">\n",
              "      <th></th>\n",
              "      <th>ID_Cliente</th>\n",
              "      <th>Freq_Compra</th>\n",
              "      <th>Total_Gasto</th>\n",
              "      <th>Recompra</th>\n",
              "    </tr>\n",
              "  </thead>\n",
              "  <tbody>\n",
              "    <tr>\n",
              "      <th>109</th>\n",
              "      <td>1.226840e+10</td>\n",
              "      <td>43</td>\n",
              "      <td>23123.30</td>\n",
              "      <td>1</td>\n",
              "    </tr>\n",
              "    <tr>\n",
              "      <th>331</th>\n",
              "      <td>1.408880e+10</td>\n",
              "      <td>31</td>\n",
              "      <td>14518.80</td>\n",
              "      <td>1</td>\n",
              "    </tr>\n",
              "    <tr>\n",
              "      <th>121</th>\n",
              "      <td>1.242904e+10</td>\n",
              "      <td>27</td>\n",
              "      <td>8548.80</td>\n",
              "      <td>1</td>\n",
              "    </tr>\n",
              "    <tr>\n",
              "      <th>184</th>\n",
              "      <td>1.273229e+10</td>\n",
              "      <td>26</td>\n",
              "      <td>6988.83</td>\n",
              "      <td>1</td>\n",
              "    </tr>\n",
              "    <tr>\n",
              "      <th>131</th>\n",
              "      <td>1.242935e+10</td>\n",
              "      <td>24</td>\n",
              "      <td>7019.70</td>\n",
              "      <td>1</td>\n",
              "    </tr>\n",
              "    <tr>\n",
              "      <th>1267</th>\n",
              "      <td>1.569230e+10</td>\n",
              "      <td>23</td>\n",
              "      <td>6556.00</td>\n",
              "      <td>1</td>\n",
              "    </tr>\n",
              "    <tr>\n",
              "      <th>1128</th>\n",
              "      <td>1.566235e+10</td>\n",
              "      <td>21</td>\n",
              "      <td>8295.40</td>\n",
              "      <td>1</td>\n",
              "    </tr>\n",
              "    <tr>\n",
              "      <th>1873</th>\n",
              "      <td>1.578848e+10</td>\n",
              "      <td>20</td>\n",
              "      <td>6527.98</td>\n",
              "      <td>1</td>\n",
              "    </tr>\n",
              "    <tr>\n",
              "      <th>405</th>\n",
              "      <td>1.446321e+10</td>\n",
              "      <td>20</td>\n",
              "      <td>9085.00</td>\n",
              "      <td>1</td>\n",
              "    </tr>\n",
              "    <tr>\n",
              "      <th>1050</th>\n",
              "      <td>1.562501e+10</td>\n",
              "      <td>19</td>\n",
              "      <td>16566.92</td>\n",
              "      <td>1</td>\n",
              "    </tr>\n",
              "    <tr>\n",
              "      <th>195</th>\n",
              "      <td>1.286821e+10</td>\n",
              "      <td>19</td>\n",
              "      <td>12187.69</td>\n",
              "      <td>1</td>\n",
              "    </tr>\n",
              "    <tr>\n",
              "      <th>951</th>\n",
              "      <td>1.560633e+10</td>\n",
              "      <td>19</td>\n",
              "      <td>12330.00</td>\n",
              "      <td>1</td>\n",
              "    </tr>\n",
              "    <tr>\n",
              "      <th>664</th>\n",
              "      <td>1.535797e+10</td>\n",
              "      <td>18</td>\n",
              "      <td>7098.80</td>\n",
              "      <td>1</td>\n",
              "    </tr>\n",
              "    <tr>\n",
              "      <th>1627</th>\n",
              "      <td>1.576201e+10</td>\n",
              "      <td>18</td>\n",
              "      <td>5728.81</td>\n",
              "      <td>1</td>\n",
              "    </tr>\n",
              "    <tr>\n",
              "      <th>251</th>\n",
              "      <td>1.358921e+10</td>\n",
              "      <td>17</td>\n",
              "      <td>3755.60</td>\n",
              "      <td>1</td>\n",
              "    </tr>\n",
              "    <tr>\n",
              "      <th>497</th>\n",
              "      <td>1.484935e+10</td>\n",
              "      <td>16</td>\n",
              "      <td>3956.00</td>\n",
              "      <td>1</td>\n",
              "    </tr>\n",
              "    <tr>\n",
              "      <th>1508</th>\n",
              "      <td>1.574564e+10</td>\n",
              "      <td>16</td>\n",
              "      <td>5125.00</td>\n",
              "      <td>1</td>\n",
              "    </tr>\n",
              "    <tr>\n",
              "      <th>132</th>\n",
              "      <td>1.242938e+10</td>\n",
              "      <td>16</td>\n",
              "      <td>3755.50</td>\n",
              "      <td>1</td>\n",
              "    </tr>\n",
              "    <tr>\n",
              "      <th>128</th>\n",
              "      <td>1.242917e+10</td>\n",
              "      <td>16</td>\n",
              "      <td>9356.70</td>\n",
              "      <td>1</td>\n",
              "    </tr>\n",
              "    <tr>\n",
              "      <th>505</th>\n",
              "      <td>1.485325e+10</td>\n",
              "      <td>16</td>\n",
              "      <td>6339.00</td>\n",
              "      <td>1</td>\n",
              "    </tr>\n",
              "    <tr>\n",
              "      <th>127</th>\n",
              "      <td>1.242915e+10</td>\n",
              "      <td>15</td>\n",
              "      <td>15218.30</td>\n",
              "      <td>1</td>\n",
              "    </tr>\n",
              "    <tr>\n",
              "      <th>2038</th>\n",
              "      <td>1.581689e+10</td>\n",
              "      <td>15</td>\n",
              "      <td>5471.20</td>\n",
              "      <td>1</td>\n",
              "    </tr>\n",
              "    <tr>\n",
              "      <th>1865</th>\n",
              "      <td>1.578746e+10</td>\n",
              "      <td>15</td>\n",
              "      <td>7905.00</td>\n",
              "      <td>1</td>\n",
              "    </tr>\n",
              "    <tr>\n",
              "      <th>1948</th>\n",
              "      <td>1.580584e+10</td>\n",
              "      <td>15</td>\n",
              "      <td>4577.80</td>\n",
              "      <td>1</td>\n",
              "    </tr>\n",
              "    <tr>\n",
              "      <th>749</th>\n",
              "      <td>1.553349e+10</td>\n",
              "      <td>15</td>\n",
              "      <td>15176.52</td>\n",
              "      <td>1</td>\n",
              "    </tr>\n",
              "    <tr>\n",
              "      <th>784</th>\n",
              "      <td>1.558890e+10</td>\n",
              "      <td>15</td>\n",
              "      <td>5710.13</td>\n",
              "      <td>1</td>\n",
              "    </tr>\n",
              "    <tr>\n",
              "      <th>968</th>\n",
              "      <td>1.560641e+10</td>\n",
              "      <td>15</td>\n",
              "      <td>24463.00</td>\n",
              "      <td>1</td>\n",
              "    </tr>\n",
              "    <tr>\n",
              "      <th>1274</th>\n",
              "      <td>1.569403e+10</td>\n",
              "      <td>15</td>\n",
              "      <td>4332.14</td>\n",
              "      <td>1</td>\n",
              "    </tr>\n",
              "    <tr>\n",
              "      <th>1457</th>\n",
              "      <td>1.573798e+10</td>\n",
              "      <td>15</td>\n",
              "      <td>6636.01</td>\n",
              "      <td>1</td>\n",
              "    </tr>\n",
              "    <tr>\n",
              "      <th>1250</th>\n",
              "      <td>1.569043e+10</td>\n",
              "      <td>15</td>\n",
              "      <td>5780.00</td>\n",
              "      <td>1</td>\n",
              "    </tr>\n",
              "    <tr>\n",
              "      <th>1324</th>\n",
              "      <td>1.570696e+10</td>\n",
              "      <td>14</td>\n",
              "      <td>3560.01</td>\n",
              "      <td>1</td>\n",
              "    </tr>\n",
              "    <tr>\n",
              "      <th>193</th>\n",
              "      <td>1.286816e+10</td>\n",
              "      <td>14</td>\n",
              "      <td>11914.60</td>\n",
              "      <td>1</td>\n",
              "    </tr>\n",
              "    <tr>\n",
              "      <th>842</th>\n",
              "      <td>1.560258e+10</td>\n",
              "      <td>14</td>\n",
              "      <td>7259.37</td>\n",
              "      <td>1</td>\n",
              "    </tr>\n",
              "    <tr>\n",
              "      <th>583</th>\n",
              "      <td>1.514576e+10</td>\n",
              "      <td>14</td>\n",
              "      <td>5369.80</td>\n",
              "      <td>1</td>\n",
              "    </tr>\n",
              "    <tr>\n",
              "      <th>1597</th>\n",
              "      <td>1.575895e+10</td>\n",
              "      <td>14</td>\n",
              "      <td>7178.00</td>\n",
              "      <td>1</td>\n",
              "    </tr>\n",
              "    <tr>\n",
              "      <th>621</th>\n",
              "      <td>1.530061e+10</td>\n",
              "      <td>14</td>\n",
              "      <td>7456.00</td>\n",
              "      <td>1</td>\n",
              "    </tr>\n",
              "    <tr>\n",
              "      <th>133</th>\n",
              "      <td>1.242939e+10</td>\n",
              "      <td>13</td>\n",
              "      <td>8126.90</td>\n",
              "      <td>1</td>\n",
              "    </tr>\n",
              "    <tr>\n",
              "      <th>255</th>\n",
              "      <td>1.361162e+10</td>\n",
              "      <td>13</td>\n",
              "      <td>25666.80</td>\n",
              "      <td>1</td>\n",
              "    </tr>\n",
              "    <tr>\n",
              "      <th>115</th>\n",
              "      <td>1.238377e+10</td>\n",
              "      <td>13</td>\n",
              "      <td>5531.53</td>\n",
              "      <td>1</td>\n",
              "    </tr>\n",
              "    <tr>\n",
              "      <th>1568</th>\n",
              "      <td>1.575571e+10</td>\n",
              "      <td>13</td>\n",
              "      <td>7160.97</td>\n",
              "      <td>1</td>\n",
              "    </tr>\n",
              "    <tr>\n",
              "      <th>212</th>\n",
              "      <td>1.302232e+10</td>\n",
              "      <td>13</td>\n",
              "      <td>4352.70</td>\n",
              "      <td>1</td>\n",
              "    </tr>\n",
              "    <tr>\n",
              "      <th>215</th>\n",
              "      <td>1.303115e+10</td>\n",
              "      <td>13</td>\n",
              "      <td>2297.83</td>\n",
              "      <td>1</td>\n",
              "    </tr>\n",
              "    <tr>\n",
              "      <th>1747</th>\n",
              "      <td>1.577181e+10</td>\n",
              "      <td>13</td>\n",
              "      <td>4867.30</td>\n",
              "      <td>1</td>\n",
              "    </tr>\n",
              "    <tr>\n",
              "      <th>641</th>\n",
              "      <td>1.532131e+10</td>\n",
              "      <td>13</td>\n",
              "      <td>1.00</td>\n",
              "      <td>1</td>\n",
              "    </tr>\n",
              "    <tr>\n",
              "      <th>1283</th>\n",
              "      <td>1.569531e+10</td>\n",
              "      <td>13</td>\n",
              "      <td>4741.00</td>\n",
              "      <td>1</td>\n",
              "    </tr>\n",
              "    <tr>\n",
              "      <th>292</th>\n",
              "      <td>1.381611e+10</td>\n",
              "      <td>13</td>\n",
              "      <td>9104.81</td>\n",
              "      <td>1</td>\n",
              "    </tr>\n",
              "    <tr>\n",
              "      <th>577</th>\n",
              "      <td>1.512240e+10</td>\n",
              "      <td>12</td>\n",
              "      <td>2832.07</td>\n",
              "      <td>1</td>\n",
              "    </tr>\n",
              "    <tr>\n",
              "      <th>176</th>\n",
              "      <td>1.257463e+10</td>\n",
              "      <td>12</td>\n",
              "      <td>8871.30</td>\n",
              "      <td>1</td>\n",
              "    </tr>\n",
              "    <tr>\n",
              "      <th>2289</th>\n",
              "      <td>1.585883e+10</td>\n",
              "      <td>12</td>\n",
              "      <td>4122.00</td>\n",
              "      <td>1</td>\n",
              "    </tr>\n",
              "    <tr>\n",
              "      <th>843</th>\n",
              "      <td>1.560274e+10</td>\n",
              "      <td>12</td>\n",
              "      <td>5148.00</td>\n",
              "      <td>1</td>\n",
              "    </tr>\n",
              "    <tr>\n",
              "      <th>549</th>\n",
              "      <td>1.503154e+10</td>\n",
              "      <td>12</td>\n",
              "      <td>5284.00</td>\n",
              "      <td>1</td>\n",
              "    </tr>\n",
              "    <tr>\n",
              "      <th>1578</th>\n",
              "      <td>1.575747e+10</td>\n",
              "      <td>12</td>\n",
              "      <td>3570.00</td>\n",
              "      <td>1</td>\n",
              "    </tr>\n",
              "    <tr>\n",
              "      <th>149</th>\n",
              "      <td>1.243838e+10</td>\n",
              "      <td>11</td>\n",
              "      <td>6619.73</td>\n",
              "      <td>1</td>\n",
              "    </tr>\n",
              "    <tr>\n",
              "      <th>2069</th>\n",
              "      <td>1.582084e+10</td>\n",
              "      <td>11</td>\n",
              "      <td>2727.00</td>\n",
              "      <td>1</td>\n",
              "    </tr>\n",
              "    <tr>\n",
              "      <th>1432</th>\n",
              "      <td>1.573419e+10</td>\n",
              "      <td>11</td>\n",
              "      <td>3461.00</td>\n",
              "      <td>1</td>\n",
              "    </tr>\n",
              "    <tr>\n",
              "      <th>118</th>\n",
              "      <td>1.238509e+10</td>\n",
              "      <td>11</td>\n",
              "      <td>7568.37</td>\n",
              "      <td>1</td>\n",
              "    </tr>\n",
              "    <tr>\n",
              "      <th>481</th>\n",
              "      <td>1.472990e+10</td>\n",
              "      <td>11</td>\n",
              "      <td>4139.23</td>\n",
              "      <td>1</td>\n",
              "    </tr>\n",
              "    <tr>\n",
              "      <th>202</th>\n",
              "      <td>1.297110e+10</td>\n",
              "      <td>11</td>\n",
              "      <td>10020.45</td>\n",
              "      <td>1</td>\n",
              "    </tr>\n",
              "    <tr>\n",
              "      <th>185</th>\n",
              "      <td>1.278849e+10</td>\n",
              "      <td>11</td>\n",
              "      <td>29162.80</td>\n",
              "      <td>1</td>\n",
              "    </tr>\n",
              "    <tr>\n",
              "      <th>272</th>\n",
              "      <td>1.372670e+10</td>\n",
              "      <td>11</td>\n",
              "      <td>3686.00</td>\n",
              "      <td>1</td>\n",
              "    </tr>\n",
              "    <tr>\n",
              "      <th>502</th>\n",
              "      <td>1.485245e+10</td>\n",
              "      <td>11</td>\n",
              "      <td>5560.82</td>\n",
              "      <td>1</td>\n",
              "    </tr>\n",
              "    <tr>\n",
              "      <th>376</th>\n",
              "      <td>1.439890e+10</td>\n",
              "      <td>11</td>\n",
              "      <td>7403.69</td>\n",
              "      <td>1</td>\n",
              "    </tr>\n",
              "    <tr>\n",
              "      <th>1039</th>\n",
              "      <td>1.562303e+10</td>\n",
              "      <td>11</td>\n",
              "      <td>2701.76</td>\n",
              "      <td>1</td>\n",
              "    </tr>\n",
              "    <tr>\n",
              "      <th>293</th>\n",
              "      <td>1.381735e+10</td>\n",
              "      <td>11</td>\n",
              "      <td>8213.20</td>\n",
              "      <td>1</td>\n",
              "    </tr>\n",
              "    <tr>\n",
              "      <th>370</th>\n",
              "      <td>1.437455e+10</td>\n",
              "      <td>11</td>\n",
              "      <td>4357.00</td>\n",
              "      <td>1</td>\n",
              "    </tr>\n",
              "    <tr>\n",
              "      <th>1956</th>\n",
              "      <td>1.580671e+10</td>\n",
              "      <td>10</td>\n",
              "      <td>4264.00</td>\n",
              "      <td>1</td>\n",
              "    </tr>\n",
              "    <tr>\n",
              "      <th>1771</th>\n",
              "      <td>1.577486e+10</td>\n",
              "      <td>10</td>\n",
              "      <td>3968.80</td>\n",
              "      <td>1</td>\n",
              "    </tr>\n",
              "    <tr>\n",
              "      <th>156</th>\n",
              "      <td>1.244779e+10</td>\n",
              "      <td>10</td>\n",
              "      <td>2680.48</td>\n",
              "      <td>1</td>\n",
              "    </tr>\n",
              "    <tr>\n",
              "      <th>355</th>\n",
              "      <td>1.427906e+10</td>\n",
              "      <td>10</td>\n",
              "      <td>2377.00</td>\n",
              "      <td>1</td>\n",
              "    </tr>\n",
              "    <tr>\n",
              "      <th>366</th>\n",
              "      <td>1.435843e+10</td>\n",
              "      <td>10</td>\n",
              "      <td>8340.00</td>\n",
              "      <td>1</td>\n",
              "    </tr>\n",
              "    <tr>\n",
              "      <th>777</th>\n",
              "      <td>1.558079e+10</td>\n",
              "      <td>10</td>\n",
              "      <td>3601.40</td>\n",
              "      <td>1</td>\n",
              "    </tr>\n",
              "    <tr>\n",
              "      <th>157</th>\n",
              "      <td>1.244800e+10</td>\n",
              "      <td>10</td>\n",
              "      <td>3857.80</td>\n",
              "      <td>1</td>\n",
              "    </tr>\n",
              "    <tr>\n",
              "      <th>929</th>\n",
              "      <td>1.560595e+10</td>\n",
              "      <td>10</td>\n",
              "      <td>7609.67</td>\n",
              "      <td>1</td>\n",
              "    </tr>\n",
              "    <tr>\n",
              "      <th>248</th>\n",
              "      <td>1.350939e+10</td>\n",
              "      <td>10</td>\n",
              "      <td>3921.60</td>\n",
              "      <td>1</td>\n",
              "    </tr>\n",
              "    <tr>\n",
              "      <th>438</th>\n",
              "      <td>1.450821e+10</td>\n",
              "      <td>10</td>\n",
              "      <td>6673.68</td>\n",
              "      <td>1</td>\n",
              "    </tr>\n",
              "    <tr>\n",
              "      <th>476</th>\n",
              "      <td>1.470600e+10</td>\n",
              "      <td>10</td>\n",
              "      <td>4201.11</td>\n",
              "      <td>1</td>\n",
              "    </tr>\n",
              "    <tr>\n",
              "      <th>910</th>\n",
              "      <td>1.560540e+10</td>\n",
              "      <td>9</td>\n",
              "      <td>19956.00</td>\n",
              "      <td>1</td>\n",
              "    </tr>\n",
              "    <tr>\n",
              "      <th>609</th>\n",
              "      <td>1.523980e+10</td>\n",
              "      <td>9</td>\n",
              "      <td>8407.60</td>\n",
              "      <td>1</td>\n",
              "    </tr>\n",
              "    <tr>\n",
              "      <th>164</th>\n",
              "      <td>1.247551e+10</td>\n",
              "      <td>9</td>\n",
              "      <td>3481.90</td>\n",
              "      <td>1</td>\n",
              "    </tr>\n",
              "    <tr>\n",
              "      <th>308</th>\n",
              "      <td>1.392092e+10</td>\n",
              "      <td>9</td>\n",
              "      <td>9718.50</td>\n",
              "      <td>1</td>\n",
              "    </tr>\n",
              "    <tr>\n",
              "      <th>266</th>\n",
              "      <td>1.369049e+10</td>\n",
              "      <td>9</td>\n",
              "      <td>2475.58</td>\n",
              "      <td>1</td>\n",
              "    </tr>\n",
              "    <tr>\n",
              "      <th>507</th>\n",
              "      <td>1.485393e+10</td>\n",
              "      <td>9</td>\n",
              "      <td>11253.52</td>\n",
              "      <td>1</td>\n",
              "    </tr>\n",
              "    <tr>\n",
              "      <th>143</th>\n",
              "      <td>1.243448e+10</td>\n",
              "      <td>9</td>\n",
              "      <td>3891.90</td>\n",
              "      <td>1</td>\n",
              "    </tr>\n",
              "    <tr>\n",
              "      <th>424</th>\n",
              "      <td>1.447397e+10</td>\n",
              "      <td>9</td>\n",
              "      <td>2419.01</td>\n",
              "      <td>1</td>\n",
              "    </tr>\n",
              "    <tr>\n",
              "      <th>252</th>\n",
              "      <td>1.359552e+10</td>\n",
              "      <td>9</td>\n",
              "      <td>2543.65</td>\n",
              "      <td>1</td>\n",
              "    </tr>\n",
              "    <tr>\n",
              "      <th>431</th>\n",
              "      <td>1.447981e+10</td>\n",
              "      <td>9</td>\n",
              "      <td>8524.04</td>\n",
              "      <td>1</td>\n",
              "    </tr>\n",
              "    <tr>\n",
              "      <th>1509</th>\n",
              "      <td>1.574602e+10</td>\n",
              "      <td>9</td>\n",
              "      <td>5502.02</td>\n",
              "      <td>1</td>\n",
              "    </tr>\n",
              "    <tr>\n",
              "      <th>1226</th>\n",
              "      <td>1.568548e+10</td>\n",
              "      <td>9</td>\n",
              "      <td>1802.00</td>\n",
              "      <td>1</td>\n",
              "    </tr>\n",
              "    <tr>\n",
              "      <th>523</th>\n",
              "      <td>1.492140e+10</td>\n",
              "      <td>9</td>\n",
              "      <td>7587.60</td>\n",
              "      <td>1</td>\n",
              "    </tr>\n",
              "    <tr>\n",
              "      <th>525</th>\n",
              "      <td>1.493549e+10</td>\n",
              "      <td>9</td>\n",
              "      <td>5240.02</td>\n",
              "      <td>1</td>\n",
              "    </tr>\n",
              "    <tr>\n",
              "      <th>1821</th>\n",
              "      <td>1.578480e+10</td>\n",
              "      <td>9</td>\n",
              "      <td>2194.00</td>\n",
              "      <td>1</td>\n",
              "    </tr>\n",
              "    <tr>\n",
              "      <th>1052</th>\n",
              "      <td>1.562501e+10</td>\n",
              "      <td>9</td>\n",
              "      <td>6272.39</td>\n",
              "      <td>1</td>\n",
              "    </tr>\n",
              "    <tr>\n",
              "      <th>1589</th>\n",
              "      <td>1.575823e+10</td>\n",
              "      <td>9</td>\n",
              "      <td>6027.91</td>\n",
              "      <td>1</td>\n",
              "    </tr>\n",
              "    <tr>\n",
              "      <th>145</th>\n",
              "      <td>1.243529e+10</td>\n",
              "      <td>9</td>\n",
              "      <td>1208.80</td>\n",
              "      <td>1</td>\n",
              "    </tr>\n",
              "    <tr>\n",
              "      <th>225</th>\n",
              "      <td>1.326539e+10</td>\n",
              "      <td>9</td>\n",
              "      <td>15828.50</td>\n",
              "      <td>1</td>\n",
              "    </tr>\n",
              "    <tr>\n",
              "      <th>688</th>\n",
              "      <td>1.536742e+10</td>\n",
              "      <td>9</td>\n",
              "      <td>6636.19</td>\n",
              "      <td>1</td>\n",
              "    </tr>\n",
              "    <tr>\n",
              "      <th>1938</th>\n",
              "      <td>1.580384e+10</td>\n",
              "      <td>9</td>\n",
              "      <td>4747.30</td>\n",
              "      <td>1</td>\n",
              "    </tr>\n",
              "    <tr>\n",
              "      <th>1256</th>\n",
              "      <td>1.569073e+10</td>\n",
              "      <td>9</td>\n",
              "      <td>3816.88</td>\n",
              "      <td>1</td>\n",
              "    </tr>\n",
              "    <tr>\n",
              "      <th>374</th>\n",
              "      <td>1.439843e+10</td>\n",
              "      <td>9</td>\n",
              "      <td>5597.00</td>\n",
              "      <td>1</td>\n",
              "    </tr>\n",
              "    <tr>\n",
              "      <th>1238</th>\n",
              "      <td>1.568752e+10</td>\n",
              "      <td>9</td>\n",
              "      <td>1765.85</td>\n",
              "      <td>1</td>\n",
              "    </tr>\n",
              "  </tbody>\n",
              "</table>\n",
              "</div>\n",
              "      <button class=\"colab-df-convert\" onclick=\"convertToInteractive('df-f94062f7-ebeb-4a60-a760-949ee0c5eed8')\"\n",
              "              title=\"Convert this dataframe to an interactive table.\"\n",
              "              style=\"display:none;\">\n",
              "        \n",
              "  <svg xmlns=\"http://www.w3.org/2000/svg\" height=\"24px\"viewBox=\"0 0 24 24\"\n",
              "       width=\"24px\">\n",
              "    <path d=\"M0 0h24v24H0V0z\" fill=\"none\"/>\n",
              "    <path d=\"M18.56 5.44l.94 2.06.94-2.06 2.06-.94-2.06-.94-.94-2.06-.94 2.06-2.06.94zm-11 1L8.5 8.5l.94-2.06 2.06-.94-2.06-.94L8.5 2.5l-.94 2.06-2.06.94zm10 10l.94 2.06.94-2.06 2.06-.94-2.06-.94-.94-2.06-.94 2.06-2.06.94z\"/><path d=\"M17.41 7.96l-1.37-1.37c-.4-.4-.92-.59-1.43-.59-.52 0-1.04.2-1.43.59L10.3 9.45l-7.72 7.72c-.78.78-.78 2.05 0 2.83L4 21.41c.39.39.9.59 1.41.59.51 0 1.02-.2 1.41-.59l7.78-7.78 2.81-2.81c.8-.78.8-2.07 0-2.86zM5.41 20L4 18.59l7.72-7.72 1.47 1.35L5.41 20z\"/>\n",
              "  </svg>\n",
              "      </button>\n",
              "      \n",
              "  <style>\n",
              "    .colab-df-container {\n",
              "      display:flex;\n",
              "      flex-wrap:wrap;\n",
              "      gap: 12px;\n",
              "    }\n",
              "\n",
              "    .colab-df-convert {\n",
              "      background-color: #E8F0FE;\n",
              "      border: none;\n",
              "      border-radius: 50%;\n",
              "      cursor: pointer;\n",
              "      display: none;\n",
              "      fill: #1967D2;\n",
              "      height: 32px;\n",
              "      padding: 0 0 0 0;\n",
              "      width: 32px;\n",
              "    }\n",
              "\n",
              "    .colab-df-convert:hover {\n",
              "      background-color: #E2EBFA;\n",
              "      box-shadow: 0px 1px 2px rgba(60, 64, 67, 0.3), 0px 1px 3px 1px rgba(60, 64, 67, 0.15);\n",
              "      fill: #174EA6;\n",
              "    }\n",
              "\n",
              "    [theme=dark] .colab-df-convert {\n",
              "      background-color: #3B4455;\n",
              "      fill: #D2E3FC;\n",
              "    }\n",
              "\n",
              "    [theme=dark] .colab-df-convert:hover {\n",
              "      background-color: #434B5C;\n",
              "      box-shadow: 0px 1px 3px 1px rgba(0, 0, 0, 0.15);\n",
              "      filter: drop-shadow(0px 1px 2px rgba(0, 0, 0, 0.3));\n",
              "      fill: #FFFFFF;\n",
              "    }\n",
              "  </style>\n",
              "\n",
              "      <script>\n",
              "        const buttonEl =\n",
              "          document.querySelector('#df-f94062f7-ebeb-4a60-a760-949ee0c5eed8 button.colab-df-convert');\n",
              "        buttonEl.style.display =\n",
              "          google.colab.kernel.accessAllowed ? 'block' : 'none';\n",
              "\n",
              "        async function convertToInteractive(key) {\n",
              "          const element = document.querySelector('#df-f94062f7-ebeb-4a60-a760-949ee0c5eed8');\n",
              "          const dataTable =\n",
              "            await google.colab.kernel.invokeFunction('convertToInteractive',\n",
              "                                                     [key], {});\n",
              "          if (!dataTable) return;\n",
              "\n",
              "          const docLinkHtml = 'Like what you see? Visit the ' +\n",
              "            '<a target=\"_blank\" href=https://colab.research.google.com/notebooks/data_table.ipynb>data table notebook</a>'\n",
              "            + ' to learn more about interactive tables.';\n",
              "          element.innerHTML = '';\n",
              "          dataTable['output_type'] = 'display_data';\n",
              "          await google.colab.output.renderOutput(dataTable, element);\n",
              "          const docLink = document.createElement('div');\n",
              "          docLink.innerHTML = docLinkHtml;\n",
              "          element.appendChild(docLink);\n",
              "        }\n",
              "      </script>\n",
              "    </div>\n",
              "  </div>\n",
              "  "
            ]
          },
          "metadata": {}
        }
      ]
    },
    {
      "cell_type": "markdown",
      "source": [
        "## Testando os Modelos, o primeiro teste em relação foi em relação ao modelo de frequência"
      ],
      "metadata": {
        "id": "ebpU8XTS_pKk"
      }
    },
    {
      "cell_type": "code",
      "source": [
        "freq_acertos = sum(df_freq_total['Recompra'] == 1)\n",
        "aleatorio_esperado = len(df_freq_total) * 0.5"
      ],
      "metadata": {
        "id": "TeifFXkC76uC"
      },
      "execution_count": 62,
      "outputs": []
    },
    {
      "cell_type": "code",
      "source": [
        "from scipy.stats import binom_test\n",
        "p_valor = binom_test(freq_acertos, n=len(df_freq_total), p=0.5, alternative='greater')"
      ],
      "metadata": {
        "colab": {
          "base_uri": "https://localhost:8080/"
        },
        "id": "pyHptUG4961L",
        "outputId": "491ba284-a68e-4946-fa33-34328f6fa5b9"
      },
      "execution_count": 63,
      "outputs": [
        {
          "output_type": "stream",
          "name": "stderr",
          "text": [
            "<ipython-input-63-a9716b954b01>:3: DeprecationWarning: 'binom_test' is deprecated in favour of 'binomtest' from version 1.7.0 and will be removed in Scipy 1.12.0.\n",
            "  p_valor = binom_test(freq_acertos, n=len(df_freq_total), p=0.5, alternative='greater')\n"
          ]
        }
      ]
    },
    {
      "cell_type": "markdown",
      "source": [
        "## Portanto, podemos rejeitar a hipótese nula com um alto grau de confiança e afirmar que o modelo baseado na frequência é melhor do que as previsões aleatórias."
      ],
      "metadata": {
        "id": "6gIZiX0A_yra"
      }
    },
    {
      "cell_type": "code",
      "source": [
        "print(p_valor)"
      ],
      "metadata": {
        "colab": {
          "base_uri": "https://localhost:8080/"
        },
        "id": "YWfparXZ-CZj",
        "outputId": "540d9048-d8dc-42f0-8728-ba1bdd3aea43"
      },
      "execution_count": 65,
      "outputs": [
        {
          "output_type": "stream",
          "name": "stdout",
          "text": [
            "0.0\n"
          ]
        }
      ]
    },
    {
      "cell_type": "code",
      "source": [],
      "metadata": {
        "id": "NRAETQ75_HoH"
      },
      "execution_count": null,
      "outputs": []
    }
  ]
}